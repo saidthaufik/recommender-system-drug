{
 "cells": [
  {
   "cell_type": "markdown",
   "id": "f20f4bdd",
   "metadata": {},
   "source": [
    "# Proyek Machine Learning - Model Recommender System Berbasis Obat \n",
    "# Data Diri\n",
    "\n",
    "- Nama : Said Thaufik Rizaldi\n",
    "- Jenis Kelamin : Laki-Laki\n",
    "- Email : saidthaufik24@gmail.com\n",
    "- Kota Domisili : Bogor\n",
    "- Jalur : Educators 2024"
   ]
  },
  {
   "cell_type": "markdown",
   "id": "888a02fc",
   "metadata": {},
   "source": [
    "# Import Library"
   ]
  },
  {
   "cell_type": "code",
   "execution_count": 1,
   "id": "4d573817",
   "metadata": {},
   "outputs": [],
   "source": [
    "import pandas as pd\n",
    "from sklearn.feature_extraction.text import TfidfVectorizer\n",
    "from sklearn.metrics.pairwise import cosine_similarity\n",
    "import matplotlib.pyplot as plt\n",
    "import re"
   ]
  },
  {
   "cell_type": "markdown",
   "id": "2ee2baeb",
   "metadata": {},
   "source": [
    "# Import Data"
   ]
  },
  {
   "cell_type": "code",
   "execution_count": 2,
   "id": "445d2e6b",
   "metadata": {},
   "outputs": [],
   "source": [
    "file_a = 'drugLibTrain_raw.tsv'\n",
    "file_b = 'drugLibTest_raw.tsv'\n",
    "df_a = pd.read_csv(file_a, sep='\\t')\n",
    "df_b = pd.read_csv(file_b, sep='\\t')"
   ]
  },
  {
   "cell_type": "code",
   "execution_count": 3,
   "id": "d55757da",
   "metadata": {},
   "outputs": [
    {
     "data": {
      "text/html": [
       "<div>\n",
       "<style scoped>\n",
       "    .dataframe tbody tr th:only-of-type {\n",
       "        vertical-align: middle;\n",
       "    }\n",
       "\n",
       "    .dataframe tbody tr th {\n",
       "        vertical-align: top;\n",
       "    }\n",
       "\n",
       "    .dataframe thead th {\n",
       "        text-align: right;\n",
       "    }\n",
       "</style>\n",
       "<table border=\"1\" class=\"dataframe\">\n",
       "  <thead>\n",
       "    <tr style=\"text-align: right;\">\n",
       "      <th></th>\n",
       "      <th>Unnamed: 0</th>\n",
       "      <th>urlDrugName</th>\n",
       "      <th>rating</th>\n",
       "      <th>effectiveness</th>\n",
       "      <th>sideEffects</th>\n",
       "      <th>condition</th>\n",
       "      <th>benefitsReview</th>\n",
       "      <th>sideEffectsReview</th>\n",
       "      <th>commentsReview</th>\n",
       "    </tr>\n",
       "  </thead>\n",
       "  <tbody>\n",
       "    <tr>\n",
       "      <th>0</th>\n",
       "      <td>2202</td>\n",
       "      <td>enalapril</td>\n",
       "      <td>4</td>\n",
       "      <td>Highly Effective</td>\n",
       "      <td>Mild Side Effects</td>\n",
       "      <td>management of congestive heart failure</td>\n",
       "      <td>slowed the progression of left ventricular dys...</td>\n",
       "      <td>cough, hypotension , proteinuria, impotence , ...</td>\n",
       "      <td>monitor blood pressure , weight and asses for ...</td>\n",
       "    </tr>\n",
       "    <tr>\n",
       "      <th>1</th>\n",
       "      <td>3117</td>\n",
       "      <td>ortho-tri-cyclen</td>\n",
       "      <td>1</td>\n",
       "      <td>Highly Effective</td>\n",
       "      <td>Severe Side Effects</td>\n",
       "      <td>birth prevention</td>\n",
       "      <td>Although this type of birth control has more c...</td>\n",
       "      <td>Heavy Cycle, Cramps, Hot Flashes, Fatigue, Lon...</td>\n",
       "      <td>I Hate This Birth Control, I Would Not Suggest...</td>\n",
       "    </tr>\n",
       "    <tr>\n",
       "      <th>2</th>\n",
       "      <td>1146</td>\n",
       "      <td>ponstel</td>\n",
       "      <td>10</td>\n",
       "      <td>Highly Effective</td>\n",
       "      <td>No Side Effects</td>\n",
       "      <td>menstrual cramps</td>\n",
       "      <td>I was used to having cramps so badly that they...</td>\n",
       "      <td>Heavier bleeding and clotting than normal.</td>\n",
       "      <td>I took 2 pills at the onset of my menstrual cr...</td>\n",
       "    </tr>\n",
       "    <tr>\n",
       "      <th>3</th>\n",
       "      <td>3947</td>\n",
       "      <td>prilosec</td>\n",
       "      <td>3</td>\n",
       "      <td>Marginally Effective</td>\n",
       "      <td>Mild Side Effects</td>\n",
       "      <td>acid reflux</td>\n",
       "      <td>The acid reflux went away for a few months aft...</td>\n",
       "      <td>Constipation, dry mouth and some mild dizzines...</td>\n",
       "      <td>I was given Prilosec prescription at a dose of...</td>\n",
       "    </tr>\n",
       "    <tr>\n",
       "      <th>4</th>\n",
       "      <td>1951</td>\n",
       "      <td>lyrica</td>\n",
       "      <td>2</td>\n",
       "      <td>Marginally Effective</td>\n",
       "      <td>Severe Side Effects</td>\n",
       "      <td>fibromyalgia</td>\n",
       "      <td>I think that the Lyrica was starting to help w...</td>\n",
       "      <td>I felt extremely drugged and dopey.  Could not...</td>\n",
       "      <td>See above</td>\n",
       "    </tr>\n",
       "    <tr>\n",
       "      <th>...</th>\n",
       "      <td>...</td>\n",
       "      <td>...</td>\n",
       "      <td>...</td>\n",
       "      <td>...</td>\n",
       "      <td>...</td>\n",
       "      <td>...</td>\n",
       "      <td>...</td>\n",
       "      <td>...</td>\n",
       "      <td>...</td>\n",
       "    </tr>\n",
       "    <tr>\n",
       "      <th>3102</th>\n",
       "      <td>1039</td>\n",
       "      <td>vyvanse</td>\n",
       "      <td>10</td>\n",
       "      <td>Highly Effective</td>\n",
       "      <td>Mild Side Effects</td>\n",
       "      <td>adhd</td>\n",
       "      <td>Increased focus, attention, productivity. Bett...</td>\n",
       "      <td>Restless legs at night, insomnia, headache (so...</td>\n",
       "      <td>I took adderall once as a child, and it made m...</td>\n",
       "    </tr>\n",
       "    <tr>\n",
       "      <th>3103</th>\n",
       "      <td>3281</td>\n",
       "      <td>zoloft</td>\n",
       "      <td>1</td>\n",
       "      <td>Ineffective</td>\n",
       "      <td>Extremely Severe Side Effects</td>\n",
       "      <td>depression</td>\n",
       "      <td>Emotions were somewhat blunted. Less moodiness.</td>\n",
       "      <td>Weight gain, extreme tiredness during the day,...</td>\n",
       "      <td>I was on Zoloft for about 2 years total. I am ...</td>\n",
       "    </tr>\n",
       "    <tr>\n",
       "      <th>3104</th>\n",
       "      <td>1664</td>\n",
       "      <td>climara</td>\n",
       "      <td>2</td>\n",
       "      <td>Marginally Effective</td>\n",
       "      <td>Moderate Side Effects</td>\n",
       "      <td>total hysterctomy</td>\n",
       "      <td>---</td>\n",
       "      <td>Constant issues with the patch not staying on....</td>\n",
       "      <td>---</td>\n",
       "    </tr>\n",
       "    <tr>\n",
       "      <th>3105</th>\n",
       "      <td>2621</td>\n",
       "      <td>trileptal</td>\n",
       "      <td>8</td>\n",
       "      <td>Considerably Effective</td>\n",
       "      <td>Mild Side Effects</td>\n",
       "      <td>epilepsy</td>\n",
       "      <td>Controlled complex partial seizures.</td>\n",
       "      <td>Dizziness, fatigue, nausea</td>\n",
       "      <td>Started at 2 doses of 300 mg a day and worked ...</td>\n",
       "    </tr>\n",
       "    <tr>\n",
       "      <th>3106</th>\n",
       "      <td>2748</td>\n",
       "      <td>micardis</td>\n",
       "      <td>4</td>\n",
       "      <td>Moderately Effective</td>\n",
       "      <td>Moderate Side Effects</td>\n",
       "      <td>high blood pressure</td>\n",
       "      <td>The drug Micardis did seem to alleviate my hig...</td>\n",
       "      <td>I find when I am taking Micardis that I tend t...</td>\n",
       "      <td>I take Micardis in pill form once daily.</td>\n",
       "    </tr>\n",
       "  </tbody>\n",
       "</table>\n",
       "<p>3107 rows × 9 columns</p>\n",
       "</div>"
      ],
      "text/plain": [
       "      Unnamed: 0       urlDrugName  rating           effectiveness  \\\n",
       "0           2202         enalapril       4        Highly Effective   \n",
       "1           3117  ortho-tri-cyclen       1        Highly Effective   \n",
       "2           1146           ponstel      10        Highly Effective   \n",
       "3           3947          prilosec       3    Marginally Effective   \n",
       "4           1951            lyrica       2    Marginally Effective   \n",
       "...          ...               ...     ...                     ...   \n",
       "3102        1039           vyvanse      10        Highly Effective   \n",
       "3103        3281            zoloft       1             Ineffective   \n",
       "3104        1664           climara       2    Marginally Effective   \n",
       "3105        2621         trileptal       8  Considerably Effective   \n",
       "3106        2748          micardis       4    Moderately Effective   \n",
       "\n",
       "                        sideEffects                               condition  \\\n",
       "0                 Mild Side Effects  management of congestive heart failure   \n",
       "1               Severe Side Effects                        birth prevention   \n",
       "2                   No Side Effects                        menstrual cramps   \n",
       "3                 Mild Side Effects                             acid reflux   \n",
       "4               Severe Side Effects                            fibromyalgia   \n",
       "...                             ...                                     ...   \n",
       "3102              Mild Side Effects                                    adhd   \n",
       "3103  Extremely Severe Side Effects                              depression   \n",
       "3104          Moderate Side Effects                       total hysterctomy   \n",
       "3105              Mild Side Effects                                epilepsy   \n",
       "3106          Moderate Side Effects                     high blood pressure   \n",
       "\n",
       "                                         benefitsReview  \\\n",
       "0     slowed the progression of left ventricular dys...   \n",
       "1     Although this type of birth control has more c...   \n",
       "2     I was used to having cramps so badly that they...   \n",
       "3     The acid reflux went away for a few months aft...   \n",
       "4     I think that the Lyrica was starting to help w...   \n",
       "...                                                 ...   \n",
       "3102  Increased focus, attention, productivity. Bett...   \n",
       "3103    Emotions were somewhat blunted. Less moodiness.   \n",
       "3104                                                ---   \n",
       "3105               Controlled complex partial seizures.   \n",
       "3106  The drug Micardis did seem to alleviate my hig...   \n",
       "\n",
       "                                      sideEffectsReview  \\\n",
       "0     cough, hypotension , proteinuria, impotence , ...   \n",
       "1     Heavy Cycle, Cramps, Hot Flashes, Fatigue, Lon...   \n",
       "2            Heavier bleeding and clotting than normal.   \n",
       "3     Constipation, dry mouth and some mild dizzines...   \n",
       "4     I felt extremely drugged and dopey.  Could not...   \n",
       "...                                                 ...   \n",
       "3102  Restless legs at night, insomnia, headache (so...   \n",
       "3103  Weight gain, extreme tiredness during the day,...   \n",
       "3104  Constant issues with the patch not staying on....   \n",
       "3105                         Dizziness, fatigue, nausea   \n",
       "3106  I find when I am taking Micardis that I tend t...   \n",
       "\n",
       "                                         commentsReview  \n",
       "0     monitor blood pressure , weight and asses for ...  \n",
       "1     I Hate This Birth Control, I Would Not Suggest...  \n",
       "2     I took 2 pills at the onset of my menstrual cr...  \n",
       "3     I was given Prilosec prescription at a dose of...  \n",
       "4                                             See above  \n",
       "...                                                 ...  \n",
       "3102  I took adderall once as a child, and it made m...  \n",
       "3103  I was on Zoloft for about 2 years total. I am ...  \n",
       "3104                                                ---  \n",
       "3105  Started at 2 doses of 300 mg a day and worked ...  \n",
       "3106           I take Micardis in pill form once daily.  \n",
       "\n",
       "[3107 rows x 9 columns]"
      ]
     },
     "execution_count": 3,
     "metadata": {},
     "output_type": "execute_result"
    }
   ],
   "source": [
    "df_a"
   ]
  },
  {
   "cell_type": "code",
   "execution_count": 4,
   "id": "5a4b2ce8",
   "metadata": {},
   "outputs": [
    {
     "data": {
      "text/html": [
       "<div>\n",
       "<style scoped>\n",
       "    .dataframe tbody tr th:only-of-type {\n",
       "        vertical-align: middle;\n",
       "    }\n",
       "\n",
       "    .dataframe tbody tr th {\n",
       "        vertical-align: top;\n",
       "    }\n",
       "\n",
       "    .dataframe thead th {\n",
       "        text-align: right;\n",
       "    }\n",
       "</style>\n",
       "<table border=\"1\" class=\"dataframe\">\n",
       "  <thead>\n",
       "    <tr style=\"text-align: right;\">\n",
       "      <th></th>\n",
       "      <th>Unnamed: 0</th>\n",
       "      <th>urlDrugName</th>\n",
       "      <th>rating</th>\n",
       "      <th>effectiveness</th>\n",
       "      <th>sideEffects</th>\n",
       "      <th>condition</th>\n",
       "      <th>benefitsReview</th>\n",
       "      <th>sideEffectsReview</th>\n",
       "      <th>commentsReview</th>\n",
       "    </tr>\n",
       "  </thead>\n",
       "  <tbody>\n",
       "    <tr>\n",
       "      <th>0</th>\n",
       "      <td>1366</td>\n",
       "      <td>biaxin</td>\n",
       "      <td>9</td>\n",
       "      <td>Considerably Effective</td>\n",
       "      <td>Mild Side Effects</td>\n",
       "      <td>sinus infection</td>\n",
       "      <td>The antibiotic may have destroyed bacteria cau...</td>\n",
       "      <td>Some back pain, some nauseau.</td>\n",
       "      <td>Took the antibiotics for 14 days. Sinus infect...</td>\n",
       "    </tr>\n",
       "    <tr>\n",
       "      <th>1</th>\n",
       "      <td>3724</td>\n",
       "      <td>lamictal</td>\n",
       "      <td>9</td>\n",
       "      <td>Highly Effective</td>\n",
       "      <td>Mild Side Effects</td>\n",
       "      <td>bipolar disorder</td>\n",
       "      <td>Lamictal stabilized my serious mood swings. On...</td>\n",
       "      <td>Drowsiness, a bit of mental numbness. If you t...</td>\n",
       "      <td>Severe mood swings between hypomania and depre...</td>\n",
       "    </tr>\n",
       "    <tr>\n",
       "      <th>2</th>\n",
       "      <td>3824</td>\n",
       "      <td>depakene</td>\n",
       "      <td>4</td>\n",
       "      <td>Moderately Effective</td>\n",
       "      <td>Severe Side Effects</td>\n",
       "      <td>bipolar disorder</td>\n",
       "      <td>Initial benefits were comparable to the brand ...</td>\n",
       "      <td>Depakene has a very thin coating, which caused...</td>\n",
       "      <td>Depakote was prescribed to me by a Kaiser psyc...</td>\n",
       "    </tr>\n",
       "    <tr>\n",
       "      <th>3</th>\n",
       "      <td>969</td>\n",
       "      <td>sarafem</td>\n",
       "      <td>10</td>\n",
       "      <td>Highly Effective</td>\n",
       "      <td>No Side Effects</td>\n",
       "      <td>bi-polar / anxiety</td>\n",
       "      <td>It controlls my mood swings. It helps me think...</td>\n",
       "      <td>I didnt really notice any side effects.</td>\n",
       "      <td>This drug may not be for everyone but its wond...</td>\n",
       "    </tr>\n",
       "    <tr>\n",
       "      <th>4</th>\n",
       "      <td>696</td>\n",
       "      <td>accutane</td>\n",
       "      <td>10</td>\n",
       "      <td>Highly Effective</td>\n",
       "      <td>Mild Side Effects</td>\n",
       "      <td>nodular acne</td>\n",
       "      <td>Within one week of treatment superficial acne ...</td>\n",
       "      <td>Side effects included moderate to severe dry s...</td>\n",
       "      <td>Drug was taken in gelatin tablet at 0.5 mg per...</td>\n",
       "    </tr>\n",
       "    <tr>\n",
       "      <th>...</th>\n",
       "      <td>...</td>\n",
       "      <td>...</td>\n",
       "      <td>...</td>\n",
       "      <td>...</td>\n",
       "      <td>...</td>\n",
       "      <td>...</td>\n",
       "      <td>...</td>\n",
       "      <td>...</td>\n",
       "      <td>...</td>\n",
       "    </tr>\n",
       "    <tr>\n",
       "      <th>1031</th>\n",
       "      <td>690</td>\n",
       "      <td>accutane</td>\n",
       "      <td>7</td>\n",
       "      <td>Considerably Effective</td>\n",
       "      <td>Severe Side Effects</td>\n",
       "      <td>acne vulgaris</td>\n",
       "      <td>Detoxing effect by pushing out the system thro...</td>\n",
       "      <td>Hairloss, extreme dry skin, itchiness, raises ...</td>\n",
       "      <td>Treatment period is 3 months/12 weeks. Dosage ...</td>\n",
       "    </tr>\n",
       "    <tr>\n",
       "      <th>1032</th>\n",
       "      <td>1071</td>\n",
       "      <td>proair-hfa</td>\n",
       "      <td>10</td>\n",
       "      <td>Highly Effective</td>\n",
       "      <td>No Side Effects</td>\n",
       "      <td>asthma</td>\n",
       "      <td>The albuterol relieved the constriction, irrit...</td>\n",
       "      <td>I have experienced no side effects.</td>\n",
       "      <td>I use the albuterol as needed because of aller...</td>\n",
       "    </tr>\n",
       "    <tr>\n",
       "      <th>1033</th>\n",
       "      <td>681</td>\n",
       "      <td>accutane</td>\n",
       "      <td>8</td>\n",
       "      <td>Considerably Effective</td>\n",
       "      <td>Moderate Side Effects</td>\n",
       "      <td>serve acne</td>\n",
       "      <td>Serve Acne has turned to middle</td>\n",
       "      <td>Painfull muscles, problems with seeing at night</td>\n",
       "      <td>This drug is highly teratogenic ,females must ...</td>\n",
       "    </tr>\n",
       "    <tr>\n",
       "      <th>1034</th>\n",
       "      <td>2709</td>\n",
       "      <td>divigel</td>\n",
       "      <td>10</td>\n",
       "      <td>Highly Effective</td>\n",
       "      <td>No Side Effects</td>\n",
       "      <td>menopause</td>\n",
       "      <td>My overall mood, sense of well being, energy l...</td>\n",
       "      <td>No side effects of any kind were noted or appa...</td>\n",
       "      <td>Divigel is a topically applied Bio-Identical H...</td>\n",
       "    </tr>\n",
       "    <tr>\n",
       "      <th>1035</th>\n",
       "      <td>729</td>\n",
       "      <td>claripel-cream</td>\n",
       "      <td>8</td>\n",
       "      <td>Considerably Effective</td>\n",
       "      <td>Mild Side Effects</td>\n",
       "      <td>acne scarring &amp; hyperpigmentation</td>\n",
       "      <td>Up until 2 years ago, it worked really well on...</td>\n",
       "      <td>Have stopped using it and have also learned th...</td>\n",
       "      <td>Stopped using it for the time being.</td>\n",
       "    </tr>\n",
       "  </tbody>\n",
       "</table>\n",
       "<p>1036 rows × 9 columns</p>\n",
       "</div>"
      ],
      "text/plain": [
       "      Unnamed: 0     urlDrugName  rating           effectiveness  \\\n",
       "0           1366          biaxin       9  Considerably Effective   \n",
       "1           3724        lamictal       9        Highly Effective   \n",
       "2           3824        depakene       4    Moderately Effective   \n",
       "3            969         sarafem      10        Highly Effective   \n",
       "4            696        accutane      10        Highly Effective   \n",
       "...          ...             ...     ...                     ...   \n",
       "1031         690        accutane       7  Considerably Effective   \n",
       "1032        1071      proair-hfa      10        Highly Effective   \n",
       "1033         681        accutane       8  Considerably Effective   \n",
       "1034        2709         divigel      10        Highly Effective   \n",
       "1035         729  claripel-cream       8  Considerably Effective   \n",
       "\n",
       "                sideEffects                          condition  \\\n",
       "0         Mild Side Effects                    sinus infection   \n",
       "1         Mild Side Effects                   bipolar disorder   \n",
       "2       Severe Side Effects                   bipolar disorder   \n",
       "3           No Side Effects                 bi-polar / anxiety   \n",
       "4         Mild Side Effects                       nodular acne   \n",
       "...                     ...                                ...   \n",
       "1031    Severe Side Effects                      acne vulgaris   \n",
       "1032        No Side Effects                             asthma   \n",
       "1033  Moderate Side Effects                         serve acne   \n",
       "1034        No Side Effects                          menopause   \n",
       "1035      Mild Side Effects  acne scarring & hyperpigmentation   \n",
       "\n",
       "                                         benefitsReview  \\\n",
       "0     The antibiotic may have destroyed bacteria cau...   \n",
       "1     Lamictal stabilized my serious mood swings. On...   \n",
       "2     Initial benefits were comparable to the brand ...   \n",
       "3     It controlls my mood swings. It helps me think...   \n",
       "4     Within one week of treatment superficial acne ...   \n",
       "...                                                 ...   \n",
       "1031  Detoxing effect by pushing out the system thro...   \n",
       "1032  The albuterol relieved the constriction, irrit...   \n",
       "1033                    Serve Acne has turned to middle   \n",
       "1034  My overall mood, sense of well being, energy l...   \n",
       "1035  Up until 2 years ago, it worked really well on...   \n",
       "\n",
       "                                      sideEffectsReview  \\\n",
       "0                         Some back pain, some nauseau.   \n",
       "1     Drowsiness, a bit of mental numbness. If you t...   \n",
       "2     Depakene has a very thin coating, which caused...   \n",
       "3               I didnt really notice any side effects.   \n",
       "4     Side effects included moderate to severe dry s...   \n",
       "...                                                 ...   \n",
       "1031  Hairloss, extreme dry skin, itchiness, raises ...   \n",
       "1032                I have experienced no side effects.   \n",
       "1033    Painfull muscles, problems with seeing at night   \n",
       "1034  No side effects of any kind were noted or appa...   \n",
       "1035  Have stopped using it and have also learned th...   \n",
       "\n",
       "                                         commentsReview  \n",
       "0     Took the antibiotics for 14 days. Sinus infect...  \n",
       "1     Severe mood swings between hypomania and depre...  \n",
       "2     Depakote was prescribed to me by a Kaiser psyc...  \n",
       "3     This drug may not be for everyone but its wond...  \n",
       "4     Drug was taken in gelatin tablet at 0.5 mg per...  \n",
       "...                                                 ...  \n",
       "1031  Treatment period is 3 months/12 weeks. Dosage ...  \n",
       "1032  I use the albuterol as needed because of aller...  \n",
       "1033  This drug is highly teratogenic ,females must ...  \n",
       "1034  Divigel is a topically applied Bio-Identical H...  \n",
       "1035               Stopped using it for the time being.  \n",
       "\n",
       "[1036 rows x 9 columns]"
      ]
     },
     "execution_count": 4,
     "metadata": {},
     "output_type": "execute_result"
    }
   ],
   "source": [
    "df_b"
   ]
  },
  {
   "cell_type": "markdown",
   "id": "bc390002",
   "metadata": {},
   "source": [
    "Data sudah berhasil di _import_ menjadi variabel `df_a` dan `df_b`"
   ]
  },
  {
   "cell_type": "markdown",
   "id": "9224be80",
   "metadata": {},
   "source": [
    "# Data Understanding"
   ]
  },
  {
   "cell_type": "markdown",
   "id": "73a7fcb2",
   "metadata": {},
   "source": [
    "Dataset yang digunakan untuk pembuatan model sistem rekomendasi ini adalah dataset \"Drug Review Dataset (Drugs.com)\" yang tersedia di situs [UCI Machine Learning Repository](https://doi.org/10.24432/C55G6J). Dataset ini berisi ulasan pasien terkait obat-obatan tertentu beserta kondisi medis yang relevan.\n",
    "\n",
    "Terdapat dua file utama yang digunakan:\n",
    "1. **`drugLibTrain_raw.tsv`** atau variabel `df_a` – Berisi 3107 baris dan 9 kolom\n",
    "2. **`drugLibTest_raw.tsv`** atau variabel `df_b` – Berisi 1036 baris dan 9 kolom.\n",
    "\n",
    "Dataset ini digunakan untuk membangun sistem rekomendasi berbasis **Content-Based Filtering**\n",
    "\n",
    "Berikut adalah informasi mengenai atribut-atribut yang terdapat pada dataset:\n",
    "\n",
    "**Atribut pada Dataset:**\n",
    "- **`Unnamed:0`** / **ReviewID** : Data Unik Review dari pengguna\n",
    "- **`urlDrugName`**: Nama obat yang diulas.\n",
    "- **`rating`**: Skor penilaian yang diberikan pengguna (skala 1–10).\n",
    "- **`effectiveness`**: Efektivitas obat berdasarkan pengalaman pengguna.\n",
    "- **`sideEffects`**: Efek samping yang dirasakan pengguna.\n",
    "- **`condition`**: Kondisi medis yang diatasi oleh obat.\n",
    "- **`benefitsReview`**: Ulasan mengenai manfaat obat dari pengguna.\n",
    "- **`sideEffectsReview`**: Ulasan mengenai efek samping obat dari pengguna.\n",
    "- **`commentsReview`**: Komentar tambahan mengenai pengalaman pengguna dengan obat.\n",
    "\n",
    "**Dataset tersebut dapat diunduh di [https://doi.org/10.24432/C55G6J](https://doi.org/10.24432/C55G6J)**"
   ]
  },
  {
   "cell_type": "markdown",
   "id": "caaa337c",
   "metadata": {},
   "source": [
    "## Exploratory Data Analysis\n",
    "**Exploratory Data Analysis (EDA)** adalah proses eksplorasi dan analisis awal terhadap data untuk memahami struktur, pola, dan karakteristiknya sebelum dilakukan pemodelan lebih lanjut. EDA bertujuan untuk mengidentifikasi distribusi data, mendeteksi nilai yang hilang atau pencilan, serta menganalisis hubungan antar variabel."
   ]
  },
  {
   "cell_type": "markdown",
   "id": "073fda9d",
   "metadata": {},
   "source": [
    "### Dataset `df_a`"
   ]
  },
  {
   "cell_type": "code",
   "execution_count": 5,
   "id": "2def8aa8",
   "metadata": {},
   "outputs": [
    {
     "data": {
      "text/plain": [
       "(3107, 9)"
      ]
     },
     "execution_count": 5,
     "metadata": {},
     "output_type": "execute_result"
    }
   ],
   "source": [
    "# Menampilan jumlah baris dan kolom yang ada pada dataset\n",
    "df_a.shape"
   ]
  },
  {
   "cell_type": "markdown",
   "id": "0b829abf",
   "metadata": {},
   "source": [
    "Berdasarkan _output_ diatas, `df_a` memiliki:\n",
    "- 3107 baris data\n",
    "- 9 kolom data\n",
    "\n",
    "Untuk selanjutnya kita akan melihat lebih jauh setiap kolom, cek data kosong dan tipe datanya"
   ]
  },
  {
   "cell_type": "code",
   "execution_count": 6,
   "id": "20bfc79e",
   "metadata": {},
   "outputs": [
    {
     "name": "stdout",
     "output_type": "stream",
     "text": [
      "<class 'pandas.core.frame.DataFrame'>\n",
      "RangeIndex: 3107 entries, 0 to 3106\n",
      "Data columns (total 9 columns):\n",
      " #   Column             Non-Null Count  Dtype \n",
      "---  ------             --------------  ----- \n",
      " 0   Unnamed: 0         3107 non-null   int64 \n",
      " 1   urlDrugName        3107 non-null   object\n",
      " 2   rating             3107 non-null   int64 \n",
      " 3   effectiveness      3107 non-null   object\n",
      " 4   sideEffects        3107 non-null   object\n",
      " 5   condition          3106 non-null   object\n",
      " 6   benefitsReview     3107 non-null   object\n",
      " 7   sideEffectsReview  3105 non-null   object\n",
      " 8   commentsReview     3099 non-null   object\n",
      "dtypes: int64(2), object(7)\n",
      "memory usage: 218.6+ KB\n"
     ]
    }
   ],
   "source": [
    "# Menampilkan kolom, tipe data, cek data kosong dari setiap kolom yang ada\n",
    "df_a.info()"
   ]
  },
  {
   "cell_type": "markdown",
   "id": "f7ccefff",
   "metadata": {},
   "source": [
    "Berdasarkan _output_ diatas, `df_a` memiliki 9 kolom pada dataset ini diantaranya memiliki tipe datanya masing-masing, yaitu:\n",
    "- `Unnamed:0` : `int64`\n",
    "- `urlDrugName` : `object`\n",
    "- `rating` : `int64`\n",
    "- `effectiveness` : `object`\n",
    "- `sideEffects` : `object`\n",
    "- `condition` : `object`\n",
    "- `benefitsReview` : `object`\n",
    "- `sideEffectsReview` : `object`\n",
    "- `commentsReview` : `object`"
   ]
  },
  {
   "cell_type": "code",
   "execution_count": 7,
   "id": "0b184d3a",
   "metadata": {},
   "outputs": [
    {
     "data": {
      "text/plain": [
       "count    3107.000000\n",
       "mean        7.006115\n",
       "std         2.937582\n",
       "min         1.000000\n",
       "25%         5.000000\n",
       "50%         8.000000\n",
       "75%         9.000000\n",
       "max        10.000000\n",
       "Name: rating, dtype: float64"
      ]
     },
     "execution_count": 7,
     "metadata": {},
     "output_type": "execute_result"
    }
   ],
   "source": [
    "# Menampilkan deskripsi statistik kolom rating\n",
    "df_a['rating'].describe()"
   ]
  },
  {
   "cell_type": "markdown",
   "id": "3cf1cac3",
   "metadata": {},
   "source": [
    "Fungsi di atas menyediakan informasi statistik deskriptif untuk kolom `review` pada variabel `df_a`, meliputi:\n",
    "\n",
    "- **`count`**: Jumlah total data dalam kolom.\n",
    "- **`mean`**: Nilai rata-rata dari data dalam kolom.\n",
    "- **`std`**: Standar deviasi dari data dalam kolom.\n",
    "- **`min`**: Nilai terkecil dalam kolom.\n",
    "- **`25%`**: Kuartil pertama (Q1), yaitu nilai yang memisahkan 25% data terendah.\n",
    "- **`50%`**: Kuartil kedua (Q2) atau median, yaitu nilai tengah dari data.\n",
    "- **`75%`**: Kuartil ketiga (Q3), yaitu nilai yang memisahkan 25% data tertinggi.\n",
    "- **`max`**: Nilai terbesar dalam kolom."
   ]
  },
  {
   "cell_type": "code",
   "execution_count": 8,
   "id": "5fc27155",
   "metadata": {},
   "outputs": [
    {
     "name": "stdout",
     "output_type": "stream",
     "text": [
      "3107\n"
     ]
    }
   ],
   "source": [
    "# Menampilkann total unique value di kolom Unnamed:0 / ReviewID\n",
    "print(df_a['Unnamed: 0'].nunique())"
   ]
  },
  {
   "cell_type": "markdown",
   "id": "75e30e0e",
   "metadata": {},
   "source": [
    "Berdasarkan output diatas nilai fungsi `nunique()` dari kolom `Unnamed:0` atau `ReviewID` adalah sebanyak **3107 data unik**."
   ]
  },
  {
   "cell_type": "code",
   "execution_count": 9,
   "id": "d314c960",
   "metadata": {},
   "outputs": [
    {
     "name": "stdout",
     "output_type": "stream",
     "text": [
      "502\n"
     ]
    }
   ],
   "source": [
    "# Menampilkann total unique value di kolom urlDrugName\n",
    "print(df_a['urlDrugName'].nunique())"
   ]
  },
  {
   "cell_type": "markdown",
   "id": "9ee87624",
   "metadata": {},
   "source": [
    "Berdasarkan _output_ diatas nilai `nunique()` dari kolom `urlDrugName` adalah sebanyak **502 data unik** terkait dengan obat. "
   ]
  },
  {
   "cell_type": "code",
   "execution_count": 10,
   "id": "cc73b303",
   "metadata": {},
   "outputs": [
    {
     "name": "stdout",
     "output_type": "stream",
     "text": [
      "5\n"
     ]
    }
   ],
   "source": [
    "# Menampilkann total unique value di kolom effectiveness\n",
    "print(df_a['effectiveness'].nunique())"
   ]
  },
  {
   "cell_type": "markdown",
   "id": "1548605d",
   "metadata": {},
   "source": [
    "Berdasarkan _output_ diatas nilai `nunique()` dari kolom `effectiveness` adalah sebanyak 5 data unik."
   ]
  },
  {
   "cell_type": "code",
   "execution_count": 11,
   "id": "71a5dae3",
   "metadata": {},
   "outputs": [
    {
     "name": "stdout",
     "output_type": "stream",
     "text": [
      "5\n"
     ]
    }
   ],
   "source": [
    "# Menampilkann total unique value di kolom sideEffects\n",
    "print(df_a['sideEffects'].nunique())"
   ]
  },
  {
   "cell_type": "markdown",
   "id": "7f4ca81e",
   "metadata": {},
   "source": [
    "Berdasarkan output diatas nilai `nunique()` dari kolom `sideEffects` adalah sebanyak 5 data unik. Ini sudah merepresentasikan `sideEffects` yang digunakan pada dataset ini dengan skala dengan 5 level."
   ]
  },
  {
   "cell_type": "code",
   "execution_count": 12,
   "id": "b0294ad4",
   "metadata": {},
   "outputs": [
    {
     "name": "stdout",
     "output_type": "stream",
     "text": [
      "1426\n"
     ]
    }
   ],
   "source": [
    "# Menampilkann total unique value di kolom condition\n",
    "print(df_a['condition'].nunique())"
   ]
  },
  {
   "cell_type": "markdown",
   "id": "137abb6e",
   "metadata": {},
   "source": [
    "Berdasarkan _output_ diatas nilai `nunique()` dari kolom `condition` adalah sebanyak 1426 data unik."
   ]
  },
  {
   "cell_type": "code",
   "execution_count": 13,
   "id": "a3359187",
   "metadata": {},
   "outputs": [
    {
     "name": "stdout",
     "output_type": "stream",
     "text": [
      "3032\n"
     ]
    }
   ],
   "source": [
    "# Menampilkann total unique value di kolom benefitsReview\n",
    "print(df_a['benefitsReview'].nunique())"
   ]
  },
  {
   "cell_type": "markdown",
   "id": "c328f526",
   "metadata": {},
   "source": [
    "Berdasarkan _output_ diatas nilai `nunique()` dari kolom `benefitsReview` adalah sebanyak 3032 data unik atau hampir keseluruhan data merupakan data unik. "
   ]
  },
  {
   "cell_type": "code",
   "execution_count": 14,
   "id": "f56966a0",
   "metadata": {},
   "outputs": [
    {
     "data": {
      "text/plain": [
       "0       slowed the progression of left ventricular dys...\n",
       "1       Although this type of birth control has more c...\n",
       "2       I was used to having cramps so badly that they...\n",
       "3       The acid reflux went away for a few months aft...\n",
       "4       I think that the Lyrica was starting to help w...\n",
       "                              ...                        \n",
       "3102    Increased focus, attention, productivity. Bett...\n",
       "3103      Emotions were somewhat blunted. Less moodiness.\n",
       "3104                                                  ---\n",
       "3105                 Controlled complex partial seizures.\n",
       "3106    The drug Micardis did seem to alleviate my hig...\n",
       "Name: benefitsReview, Length: 3107, dtype: object"
      ]
     },
     "execution_count": 14,
     "metadata": {},
     "output_type": "execute_result"
    }
   ],
   "source": [
    "df_a['benefitsReview']"
   ]
  },
  {
   "cell_type": "markdown",
   "id": "0e81982d",
   "metadata": {},
   "source": [
    "Berdasarkan _output_ diatas bahwa karakteristik data pada kolom `benefitsReview` adalah berbentuk _Review_ atau _Natural Language_"
   ]
  },
  {
   "cell_type": "code",
   "execution_count": 15,
   "id": "10aa77eb",
   "metadata": {},
   "outputs": [
    {
     "name": "stdout",
     "output_type": "stream",
     "text": [
      "2814\n"
     ]
    }
   ],
   "source": [
    "# Menampilkann total unique value di kolom sideEffectsReview\n",
    "print(df_a['sideEffectsReview'].nunique())"
   ]
  },
  {
   "cell_type": "markdown",
   "id": "004a50eb",
   "metadata": {},
   "source": [
    "Berdasarkan output diatas nilai nunique() dari kolom sideEffectsReview adalah sebanyak 2814 data unik atau hampir keseluruhan data merupakan data unik."
   ]
  },
  {
   "cell_type": "code",
   "execution_count": 16,
   "id": "4a5661bd",
   "metadata": {},
   "outputs": [
    {
     "data": {
      "text/plain": [
       "0       cough, hypotension , proteinuria, impotence , ...\n",
       "1       Heavy Cycle, Cramps, Hot Flashes, Fatigue, Lon...\n",
       "2              Heavier bleeding and clotting than normal.\n",
       "3       Constipation, dry mouth and some mild dizzines...\n",
       "4       I felt extremely drugged and dopey.  Could not...\n",
       "                              ...                        \n",
       "3102    Restless legs at night, insomnia, headache (so...\n",
       "3103    Weight gain, extreme tiredness during the day,...\n",
       "3104    Constant issues with the patch not staying on....\n",
       "3105                           Dizziness, fatigue, nausea\n",
       "3106    I find when I am taking Micardis that I tend t...\n",
       "Name: sideEffectsReview, Length: 3107, dtype: object"
      ]
     },
     "execution_count": 16,
     "metadata": {},
     "output_type": "execute_result"
    }
   ],
   "source": [
    "df_a['sideEffectsReview']"
   ]
  },
  {
   "cell_type": "markdown",
   "id": "bc9ce1fb",
   "metadata": {},
   "source": [
    "Berdasarkan _output_ diatas bahwa karakteristik data pada kolom `sideEffectsReview` adalah berbentuk _Review_ atau _Natural Language_"
   ]
  },
  {
   "cell_type": "code",
   "execution_count": 17,
   "id": "19917792",
   "metadata": {},
   "outputs": [
    {
     "name": "stdout",
     "output_type": "stream",
     "text": [
      "3047\n"
     ]
    }
   ],
   "source": [
    "# Menampilkann total unique value di kolom commentsReview\n",
    "print(df_a['commentsReview'].nunique())"
   ]
  },
  {
   "cell_type": "markdown",
   "id": "1f8173b1",
   "metadata": {},
   "source": [
    "Berdasarkan output diatas nilai `nunique()` dari kolom `commentsReview` adalah sebanyak 3047 data unik atau hampir keseluruhan data merupakan data unik."
   ]
  },
  {
   "cell_type": "code",
   "execution_count": 18,
   "id": "6a6cc839",
   "metadata": {},
   "outputs": [
    {
     "data": {
      "text/plain": [
       "0       monitor blood pressure , weight and asses for ...\n",
       "1       I Hate This Birth Control, I Would Not Suggest...\n",
       "2       I took 2 pills at the onset of my menstrual cr...\n",
       "3       I was given Prilosec prescription at a dose of...\n",
       "4                                               See above\n",
       "                              ...                        \n",
       "3102    I took adderall once as a child, and it made m...\n",
       "3103    I was on Zoloft for about 2 years total. I am ...\n",
       "3104                                                  ---\n",
       "3105    Started at 2 doses of 300 mg a day and worked ...\n",
       "3106             I take Micardis in pill form once daily.\n",
       "Name: commentsReview, Length: 3107, dtype: object"
      ]
     },
     "execution_count": 18,
     "metadata": {},
     "output_type": "execute_result"
    }
   ],
   "source": [
    "df_a['commentsReview']"
   ]
  },
  {
   "cell_type": "markdown",
   "id": "9235ac41",
   "metadata": {},
   "source": [
    "Berdasarkan _output_ diatas bahwa karakteristik data pada kolom `commentsReview` adalah berbentuk _Review_ atau _Natural Language_"
   ]
  },
  {
   "cell_type": "code",
   "execution_count": 19,
   "id": "32bebca4",
   "metadata": {},
   "outputs": [
    {
     "data": {
      "text/plain": [
       "0"
      ]
     },
     "execution_count": 19,
     "metadata": {},
     "output_type": "execute_result"
    }
   ],
   "source": [
    "# Pengecekan data duplikat pada dataframe `df`\n",
    "df_a.duplicated().sum()"
   ]
  },
  {
   "cell_type": "markdown",
   "id": "239aa2b4",
   "metadata": {},
   "source": [
    "Berdasarkan _output_ diatas bahwa tidak terdapat data yang duplikat terhadap dataset `df_a`"
   ]
  },
  {
   "cell_type": "markdown",
   "id": "77d93681",
   "metadata": {},
   "source": [
    "**Data Visualization `df_a`**\n",
    "\n",
    "**Data Visualization** adalah proses penyajian data dalam bentuk grafik atau diagram untuk mempermudah interpretasi dan analisis informasi. Visualisasi data memungkinkan kita untuk mengidentifikasi pola, tren, dan hubungan antar variabel dengan lebih intuitif dibandingkan hanya melihat tabel angka mentah. "
   ]
  },
  {
   "cell_type": "code",
   "execution_count": 20,
   "id": "5c664eda",
   "metadata": {},
   "outputs": [
    {
     "data": {
      "image/png": "[encoded data removed]",
      "text/plain": [
       "<Figure size 1000x600 with 1 Axes>"
      ]
     },
     "metadata": {},
     "output_type": "display_data"
    }
   ],
   "source": [
    "# Melihat Distribusi 30 `urlDrugName` Teratas\n",
    "df_a['urlDrugName'].value_counts().head(30).plot(kind='bar', figsize=(10, 6))\n",
    "plt.title('Distribusi 30 Obat Teratas Pada Dataset df_a')\n",
    "plt.xlabel('Nama Obat')\n",
    "plt.ylabel('Jumlah Data')\n",
    "plt.xticks(rotation=45)\n",
    "plt.show()"
   ]
  },
  {
   "cell_type": "markdown",
   "id": "9cdf1b23",
   "metadata": {},
   "source": [
    "Berdasarkan grafik diatas bahwa persebaran data pada `urlDrugName` cukup merata sehingga tetap dipertahankan untuk analisis berikutnya"
   ]
  },
  {
   "cell_type": "code",
   "execution_count": 21,
   "id": "30f76f75",
   "metadata": {},
   "outputs": [
    {
     "data": {
      "image/png": "[encoded data removed]",
      "text/plain": [
       "<Figure size 800x500 with 1 Axes>"
      ]
     },
     "metadata": {},
     "output_type": "display_data"
    }
   ],
   "source": [
    "# Melihat Distribusi `rating`\n",
    "plt.figure(figsize=(8, 5))\n",
    "counts, bins, patches = plt.hist(df_a['rating'], bins=range(1, 12), edgecolor='black', align='left')\n",
    "for i in range(len(patches)):\n",
    "    plt.text(patches[i].get_x() + 0.5, patches[i].get_height(),  \n",
    "             str(int(patches[i].get_height())),                 \n",
    "             ha='center', va='bottom')                          \n",
    "\n",
    "plt.title('Distribusi Rating Dataset df_a')\n",
    "plt.xlabel('Rating')\n",
    "plt.ylabel('Frekuensi')\n",
    "plt.xticks(range(1, 11)) \n",
    "plt.grid(False)\n",
    "plt.show()"
   ]
  },
  {
   "cell_type": "markdown",
   "id": "d4e55bf2",
   "metadata": {},
   "source": [
    "Berdasarkan grafik diatas bahwa distribusi `rating` yang **terbesar adalah 10 dengan data 742**, sedangkan `rating` yang **terkecil adalah 2 dengan data 103**"
   ]
  },
  {
   "cell_type": "code",
   "execution_count": 22,
   "id": "00078b80",
   "metadata": {},
   "outputs": [
    {
     "data": {
      "image/png": "[encoded data removed]",
      "text/plain": [
       "<Figure size 800x500 with 1 Axes>"
      ]
     },
     "metadata": {},
     "output_type": "display_data"
    }
   ],
   "source": [
    "# Melihat Distribusi `effectiveness`\n",
    "counts = df_a['effectiveness'].value_counts()\n",
    "plt.figure(figsize=(8, 5))\n",
    "counts.plot(kind='bar', color='purple', edgecolor='black')\n",
    "\n",
    "for i, count in enumerate(counts):\n",
    "    plt.text(i, count, str(count), ha='center', va='bottom')\n",
    "\n",
    "plt.title('Distribusi Efektifitas Obat Dataset df_a')\n",
    "plt.xlabel('Efektifitas')\n",
    "plt.ylabel('Frekuensi')\n",
    "plt.xticks(rotation=45)\n",
    "plt.grid(False)\n",
    "plt.show()"
   ]
  },
  {
   "cell_type": "markdown",
   "id": "0f0cb677",
   "metadata": {},
   "source": [
    "Berdasarkan grafik diatas bahwa distribusi `effectiveness` yang **terbesar adalah Highly Effective dengan data 1330**, sedangkan `effectiveness` yang **terkecil adalah Marginally Effective dengan 187 data**"
   ]
  },
  {
   "cell_type": "code",
   "execution_count": 23,
   "id": "5bb28119",
   "metadata": {},
   "outputs": [
    {
     "data": {
      "image/png": "[encoded data removed]",
      "text/plain": [
       "<Figure size 800x500 with 1 Axes>"
      ]
     },
     "metadata": {},
     "output_type": "display_data"
    }
   ],
   "source": [
    "# Melihat Distribusi `sideEffects`\n",
    "counts = df_a['sideEffects'].value_counts()\n",
    "plt.figure(figsize=(8, 5))\n",
    "counts.plot(kind='bar', color='lightgreen', edgecolor='black')\n",
    "\n",
    "for i, count in enumerate(counts):\n",
    "    plt.text(i, count, str(count), ha='center', va='bottom')\n",
    "\n",
    "plt.title('Distribusi Efek Samping Obat Dataset df_a')\n",
    "plt.xlabel('Efek Samping')\n",
    "plt.ylabel('Frekuensi')\n",
    "plt.xticks(rotation=45)\n",
    "plt.grid(False)\n",
    "plt.show()"
   ]
  },
  {
   "cell_type": "markdown",
   "id": "044c8983",
   "metadata": {},
   "source": [
    "Berdasarkan grafik diatas bahwa distribusi `sideEffects` yang **terbesar adalah Mid Side Effects dengan data 1019**, sedangkan `sideEffects` yang **terkecil adalah Extremely Severe Side Effects dengan 175 data**"
   ]
  },
  {
   "cell_type": "code",
   "execution_count": 24,
   "id": "d746d4c5",
   "metadata": {},
   "outputs": [
    {
     "data": {
      "image/png": "[encoded data removed]",
      "text/plain": [
       "<Figure size 1000x600 with 1 Axes>"
      ]
     },
     "metadata": {},
     "output_type": "display_data"
    }
   ],
   "source": [
    "# Melihat Distribusi `condition`\n",
    "counts = df_a['condition'].value_counts().head(10)\n",
    "plt.figure(figsize=(10, 6))\n",
    "counts.plot(kind='bar', color='salmon', edgecolor='black')\n",
    "\n",
    "for i, count in enumerate(counts):\n",
    "    plt.text(i, count, str(count), ha='center', va='bottom')\n",
    "\n",
    "plt.title('Distribusi 10 Kondisi Medis Teratas Dataset df_a')\n",
    "plt.xlabel('Kondisi Medis')\n",
    "plt.ylabel('Frekuensi')\n",
    "plt.xticks(rotation=45)\n",
    "plt.grid(False)\n",
    "plt.show()"
   ]
  },
  {
   "cell_type": "markdown",
   "id": "7cca06ef",
   "metadata": {},
   "source": [
    "Berikut adalah grafik 10 teratas distribusi `condition` terlihat bahwa **despression** dan **acne** menjadi yang paling mencolok dari distribusi lainnya"
   ]
  },
  {
   "cell_type": "markdown",
   "id": "c82a60e6",
   "metadata": {},
   "source": [
    "### Dataset `df_b`"
   ]
  },
  {
   "cell_type": "code",
   "execution_count": 25,
   "id": "e01bf153",
   "metadata": {},
   "outputs": [
    {
     "data": {
      "text/plain": [
       "(1036, 9)"
      ]
     },
     "execution_count": 25,
     "metadata": {},
     "output_type": "execute_result"
    }
   ],
   "source": [
    "# Menampilan jumlah baris dan kolom yang ada pada dataset\n",
    "df_b.shape"
   ]
  },
  {
   "cell_type": "markdown",
   "id": "d2cc6cbe",
   "metadata": {},
   "source": [
    "Berdasarkan _output_ diatas, `df_b` memiliki:\n",
    "- 1036 baris data\n",
    "- 9 kolom data\n",
    "\n",
    "Untuk selanjutnya kita akan melihat lebih jauh setiap kolom, cek data kosong dan tipe datanya"
   ]
  },
  {
   "cell_type": "code",
   "execution_count": 26,
   "id": "1ddbeb10",
   "metadata": {},
   "outputs": [
    {
     "name": "stdout",
     "output_type": "stream",
     "text": [
      "<class 'pandas.core.frame.DataFrame'>\n",
      "RangeIndex: 1036 entries, 0 to 1035\n",
      "Data columns (total 9 columns):\n",
      " #   Column             Non-Null Count  Dtype \n",
      "---  ------             --------------  ----- \n",
      " 0   Unnamed: 0         1036 non-null   int64 \n",
      " 1   urlDrugName        1036 non-null   object\n",
      " 2   rating             1036 non-null   int64 \n",
      " 3   effectiveness      1036 non-null   object\n",
      " 4   sideEffects        1036 non-null   object\n",
      " 5   condition          1036 non-null   object\n",
      " 6   benefitsReview     1036 non-null   object\n",
      " 7   sideEffectsReview  1036 non-null   object\n",
      " 8   commentsReview     1036 non-null   object\n",
      "dtypes: int64(2), object(7)\n",
      "memory usage: 73.0+ KB\n"
     ]
    }
   ],
   "source": [
    "# Menampilkan kolom, tipe data, cek data kosong dari setiap kolom yang ada\n",
    "df_b.info()"
   ]
  },
  {
   "cell_type": "markdown",
   "id": "55e8095b",
   "metadata": {},
   "source": [
    "Berdasarkan _output_ diatas, `df_b` memiliki 9 kolom pada dataset ini diantaranya memiliki tipe datanya masing-masing, yaitu:\n",
    "- `Unnamed:0` : `int64`\n",
    "- `urlDrugName` : `object`\n",
    "- `rating` : `int64`\n",
    "- `effectiveness` : `object`\n",
    "- `sideEffects` : `object`\n",
    "- `condition` : `object`\n",
    "- `benefitsReview` : `object`\n",
    "- `sideEffectsReview` : `object`\n",
    "- `commentsReview` : `object`"
   ]
  },
  {
   "cell_type": "code",
   "execution_count": 27,
   "id": "9bb50e39",
   "metadata": {},
   "outputs": [
    {
     "data": {
      "text/plain": [
       "count    1036.000000\n",
       "mean        6.767375\n",
       "std         2.976711\n",
       "min         1.000000\n",
       "25%         5.000000\n",
       "50%         8.000000\n",
       "75%         9.000000\n",
       "max        10.000000\n",
       "Name: rating, dtype: float64"
      ]
     },
     "execution_count": 27,
     "metadata": {},
     "output_type": "execute_result"
    }
   ],
   "source": [
    "# Menampilkan deskripsi statistik kolom rating\n",
    "df_b['rating'].describe()"
   ]
  },
  {
   "cell_type": "markdown",
   "id": "378685aa",
   "metadata": {},
   "source": [
    "Fungsi di atas menyediakan informasi statistik deskriptif untuk kolom `review` pada variabel `df_b`, meliputi:\n",
    "\n",
    "- **`count`**: Jumlah total data dalam kolom.\n",
    "- **`mean`**: Nilai rata-rata dari data dalam kolom.\n",
    "- **`std`**: Standar deviasi dari data dalam kolom.\n",
    "- **`min`**: Nilai terkecil dalam kolom.\n",
    "- **`25%`**: Kuartil pertama (Q1), yaitu nilai yang memisahkan 25% data terendah.\n",
    "- **`50%`**: Kuartil kedua (Q2) atau median, yaitu nilai tengah dari data.\n",
    "- **`75%`**: Kuartil ketiga (Q3), yaitu nilai yang memisahkan 25% data tertinggi.\n",
    "- **`max`**: Nilai terbesar dalam kolom."
   ]
  },
  {
   "cell_type": "code",
   "execution_count": 28,
   "id": "d399f70d",
   "metadata": {},
   "outputs": [
    {
     "name": "stdout",
     "output_type": "stream",
     "text": [
      "1036\n"
     ]
    }
   ],
   "source": [
    "# Menampilkann total unique value di kolom Unnamed:0 / ReviewID\n",
    "print(df_b['Unnamed: 0'].nunique())"
   ]
  },
  {
   "cell_type": "markdown",
   "id": "b08cf4d4",
   "metadata": {},
   "source": [
    "Berdasarkan output diatas nilai fungsi `nunique()` dari kolom `Unnamed:0` atau `ReviewID` adalah sebanyak **1036 data unik**."
   ]
  },
  {
   "cell_type": "code",
   "execution_count": 29,
   "id": "12e3c93b",
   "metadata": {},
   "outputs": [
    {
     "name": "stdout",
     "output_type": "stream",
     "text": [
      "314\n"
     ]
    }
   ],
   "source": [
    "# Menampilkann total unique value di kolom urlDrugName\n",
    "print(df_b['urlDrugName'].nunique())"
   ]
  },
  {
   "cell_type": "markdown",
   "id": "f6439a72",
   "metadata": {},
   "source": [
    "Berdasarkan _output_ diatas nilai `nunique()` dari kolom `urlDrugName` adalah sebanyak **314 data unik** terkait dengan obat. "
   ]
  },
  {
   "cell_type": "code",
   "execution_count": 30,
   "id": "51f2b642",
   "metadata": {},
   "outputs": [
    {
     "name": "stdout",
     "output_type": "stream",
     "text": [
      "5\n"
     ]
    }
   ],
   "source": [
    "# Menampilkann total unique value di kolom effectiveness\n",
    "print(df_b['effectiveness'].nunique())"
   ]
  },
  {
   "cell_type": "markdown",
   "id": "ddbc51f5",
   "metadata": {},
   "source": [
    "Berdasarkan _output_ diatas nilai `nunique()` dari kolom `effectiveness` adalah sebanyak 5 data unik."
   ]
  },
  {
   "cell_type": "code",
   "execution_count": 31,
   "id": "b3cb6103",
   "metadata": {},
   "outputs": [
    {
     "name": "stdout",
     "output_type": "stream",
     "text": [
      "5\n"
     ]
    }
   ],
   "source": [
    "# Menampilkann total unique value di kolom sideEffects\n",
    "print(df_b['sideEffects'].nunique())"
   ]
  },
  {
   "cell_type": "markdown",
   "id": "0af200b6",
   "metadata": {},
   "source": [
    "Berdasarkan output diatas nilai `nunique()` dari kolom `sideEffects` adalah sebanyak 5 data unik. Ini sudah merepresentasikan `sideEffects` yang digunakan pada dataset ini dengan skala dengan 5 level."
   ]
  },
  {
   "cell_type": "code",
   "execution_count": 32,
   "id": "ebf7ee01",
   "metadata": {},
   "outputs": [
    {
     "name": "stdout",
     "output_type": "stream",
     "text": [
      "566\n"
     ]
    }
   ],
   "source": [
    "# Menampilkann total unique value di kolom condition\n",
    "print(df_b['condition'].nunique())"
   ]
  },
  {
   "cell_type": "markdown",
   "id": "38d4beca",
   "metadata": {},
   "source": [
    "Berdasarkan _output_ diatas nilai `nunique()` dari kolom `condition` adalah sebanyak 1426 data unik."
   ]
  },
  {
   "cell_type": "code",
   "execution_count": 33,
   "id": "dbdc01b7",
   "metadata": {},
   "outputs": [
    {
     "name": "stdout",
     "output_type": "stream",
     "text": [
      "1023\n"
     ]
    }
   ],
   "source": [
    "# Menampilkann total unique value di kolom benefitsReview\n",
    "print(df_b['benefitsReview'].nunique())"
   ]
  },
  {
   "cell_type": "markdown",
   "id": "1e22f1eb",
   "metadata": {},
   "source": [
    "Berdasarkan _output_ diatas nilai `nunique()` dari kolom `benefitsReview` adalah sebanyak 3032 data unik atau hampir keseluruhan data merupakan data unik. "
   ]
  },
  {
   "cell_type": "code",
   "execution_count": 34,
   "id": "ab4dc7a9",
   "metadata": {},
   "outputs": [
    {
     "data": {
      "text/plain": [
       "0       The antibiotic may have destroyed bacteria cau...\n",
       "1       Lamictal stabilized my serious mood swings. On...\n",
       "2       Initial benefits were comparable to the brand ...\n",
       "3       It controlls my mood swings. It helps me think...\n",
       "4       Within one week of treatment superficial acne ...\n",
       "                              ...                        \n",
       "1031    Detoxing effect by pushing out the system thro...\n",
       "1032    The albuterol relieved the constriction, irrit...\n",
       "1033                      Serve Acne has turned to middle\n",
       "1034    My overall mood, sense of well being, energy l...\n",
       "1035    Up until 2 years ago, it worked really well on...\n",
       "Name: benefitsReview, Length: 1036, dtype: object"
      ]
     },
     "execution_count": 34,
     "metadata": {},
     "output_type": "execute_result"
    }
   ],
   "source": [
    "df_b['benefitsReview']"
   ]
  },
  {
   "cell_type": "markdown",
   "id": "f3f57667",
   "metadata": {},
   "source": [
    "Berdasarkan _output_ diatas bahwa karakteristik data pada kolom `benefitsReview` adalah berbentuk _Review_ atau _Natural Language_"
   ]
  },
  {
   "cell_type": "code",
   "execution_count": 35,
   "id": "19891673",
   "metadata": {},
   "outputs": [
    {
     "name": "stdout",
     "output_type": "stream",
     "text": [
      "968\n"
     ]
    }
   ],
   "source": [
    "# Menampilkann total unique value di kolom sideEffectsReview\n",
    "print(df_b['sideEffectsReview'].nunique())"
   ]
  },
  {
   "cell_type": "markdown",
   "id": "d4ebac23",
   "metadata": {},
   "source": [
    "Berdasarkan output diatas nilai nunique() dari kolom sideEffectsReview adalah sebanyak 2814 data unik atau hampir keseluruhan data merupakan data unik."
   ]
  },
  {
   "cell_type": "code",
   "execution_count": 36,
   "id": "3898d139",
   "metadata": {},
   "outputs": [
    {
     "data": {
      "text/plain": [
       "0                           Some back pain, some nauseau.\n",
       "1       Drowsiness, a bit of mental numbness. If you t...\n",
       "2       Depakene has a very thin coating, which caused...\n",
       "3                 I didnt really notice any side effects.\n",
       "4       Side effects included moderate to severe dry s...\n",
       "                              ...                        \n",
       "1031    Hairloss, extreme dry skin, itchiness, raises ...\n",
       "1032                  I have experienced no side effects.\n",
       "1033      Painfull muscles, problems with seeing at night\n",
       "1034    No side effects of any kind were noted or appa...\n",
       "1035    Have stopped using it and have also learned th...\n",
       "Name: sideEffectsReview, Length: 1036, dtype: object"
      ]
     },
     "execution_count": 36,
     "metadata": {},
     "output_type": "execute_result"
    }
   ],
   "source": [
    "df_b['sideEffectsReview']"
   ]
  },
  {
   "cell_type": "markdown",
   "id": "3f40c15f",
   "metadata": {},
   "source": [
    "Berdasarkan _output_ diatas bahwa karakteristik data pada kolom `sideEffectsReview` adalah berbentuk _Review_ atau _Natural Language_"
   ]
  },
  {
   "cell_type": "code",
   "execution_count": 37,
   "id": "9df03463",
   "metadata": {},
   "outputs": [
    {
     "name": "stdout",
     "output_type": "stream",
     "text": [
      "1030\n"
     ]
    }
   ],
   "source": [
    "# Menampilkann total unique value di kolom commentsReview\n",
    "print(df_b['commentsReview'].nunique())"
   ]
  },
  {
   "cell_type": "markdown",
   "id": "69fa73af",
   "metadata": {},
   "source": [
    "Berdasarkan output diatas nilai `nunique()` dari kolom `commentsReview` adalah sebanyak 3047 data unik atau hampir keseluruhan data merupakan data unik."
   ]
  },
  {
   "cell_type": "code",
   "execution_count": 38,
   "id": "711471de",
   "metadata": {},
   "outputs": [
    {
     "data": {
      "text/plain": [
       "0       Took the antibiotics for 14 days. Sinus infect...\n",
       "1       Severe mood swings between hypomania and depre...\n",
       "2       Depakote was prescribed to me by a Kaiser psyc...\n",
       "3       This drug may not be for everyone but its wond...\n",
       "4       Drug was taken in gelatin tablet at 0.5 mg per...\n",
       "                              ...                        \n",
       "1031    Treatment period is 3 months/12 weeks. Dosage ...\n",
       "1032    I use the albuterol as needed because of aller...\n",
       "1033    This drug is highly teratogenic ,females must ...\n",
       "1034    Divigel is a topically applied Bio-Identical H...\n",
       "1035                 Stopped using it for the time being.\n",
       "Name: commentsReview, Length: 1036, dtype: object"
      ]
     },
     "execution_count": 38,
     "metadata": {},
     "output_type": "execute_result"
    }
   ],
   "source": [
    "df_b['commentsReview']"
   ]
  },
  {
   "cell_type": "markdown",
   "id": "fda23adf",
   "metadata": {},
   "source": [
    "Berdasarkan _output_ diatas bahwa karakteristik data pada kolom `commentsReview` adalah berbentuk _Review_ atau _Natural Language_"
   ]
  },
  {
   "cell_type": "code",
   "execution_count": 39,
   "id": "ebfa9e34",
   "metadata": {},
   "outputs": [
    {
     "data": {
      "text/plain": [
       "0"
      ]
     },
     "execution_count": 39,
     "metadata": {},
     "output_type": "execute_result"
    }
   ],
   "source": [
    "# Pengecekan data duplikat pada dataframe `df`\n",
    "df_b.duplicated().sum()"
   ]
  },
  {
   "cell_type": "markdown",
   "id": "ff2c5b9a",
   "metadata": {},
   "source": [
    "Berdasarkan _output_ diatas bahwa tidak terdapat data yang duplikat terhadap dataset `df_b`"
   ]
  },
  {
   "cell_type": "markdown",
   "id": "53c470ac",
   "metadata": {},
   "source": [
    "**Data Visualization `df_b`**\n",
    "\n",
    "**Data Visualization** adalah proses penyajian data dalam bentuk grafik atau diagram untuk mempermudah interpretasi dan analisis informasi. Visualisasi data memungkinkan kita untuk mengidentifikasi pola, tren, dan hubungan antar variabel dengan lebih intuitif dibandingkan hanya melihat tabel angka mentah. "
   ]
  },
  {
   "cell_type": "code",
   "execution_count": 40,
   "id": "8a67f727",
   "metadata": {},
   "outputs": [
    {
     "data": {
      "image/png": "[encoded data removed]",
      "text/plain": [
       "<Figure size 1000x600 with 1 Axes>"
      ]
     },
     "metadata": {},
     "output_type": "display_data"
    }
   ],
   "source": [
    "# Melihat Distribusi 30 `urlDrugName` Teratas\n",
    "df_a['urlDrugName'].value_counts().head(30).plot(kind='bar', figsize=(10, 6))\n",
    "plt.title('Distribusi 30 Obat Teratas Pada Dataset df_b')\n",
    "plt.xlabel('Nama Obat')\n",
    "plt.ylabel('Jumlah Data')\n",
    "plt.xticks(rotation=45)\n",
    "plt.show()"
   ]
  },
  {
   "cell_type": "markdown",
   "id": "acda942e",
   "metadata": {},
   "source": [
    "Berdasarkan grafik diatas bahwa persebaran data pada `urlDrugName` cukup merata sehingga tetap dipertahankan untuk analisis berikutnya"
   ]
  },
  {
   "cell_type": "code",
   "execution_count": 41,
   "id": "11968434",
   "metadata": {},
   "outputs": [
    {
     "data": {
      "image/png": "[encoded data removed]",
      "text/plain": [
       "<Figure size 800x500 with 1 Axes>"
      ]
     },
     "metadata": {},
     "output_type": "display_data"
    }
   ],
   "source": [
    "# Melihat Distribusi `rating`\n",
    "plt.figure(figsize=(8, 5))\n",
    "counts, bins, patches = plt.hist(df_b['rating'], bins=range(1, 12), edgecolor='black', align='left')\n",
    "for i in range(len(patches)):\n",
    "    plt.text(patches[i].get_x() + 0.5, patches[i].get_height(),  \n",
    "             str(int(patches[i].get_height())),                 \n",
    "             ha='center', va='bottom')                          \n",
    "\n",
    "plt.title('Distribusi Rating Dataset df_b')\n",
    "plt.xlabel('Rating')\n",
    "plt.ylabel('Frekuensi')\n",
    "plt.xticks(range(1, 11)) \n",
    "plt.grid(False)\n",
    "plt.show()"
   ]
  },
  {
   "cell_type": "markdown",
   "id": "c1a4d28e",
   "metadata": {},
   "source": [
    "Berdasarkan grafik diatas bahwa distribusi `rating` yang **terbesar adalah 10 dengan data 226**, sedangkan `rating` yang **terkecil adalah 2 dengan data 33**"
   ]
  },
  {
   "cell_type": "code",
   "execution_count": 42,
   "id": "00d8aaf7",
   "metadata": {},
   "outputs": [
    {
     "data": {
      "image/png": "[encoded data removed]",
      "text/plain": [
       "<Figure size 800x500 with 1 Axes>"
      ]
     },
     "metadata": {},
     "output_type": "display_data"
    }
   ],
   "source": [
    "# Melihat Distribusi `effectiveness`\n",
    "counts = df_b['effectiveness'].value_counts()\n",
    "plt.figure(figsize=(8, 5))\n",
    "counts.plot(kind='bar', color='purple', edgecolor='black')\n",
    "\n",
    "for i, count in enumerate(counts):\n",
    "    plt.text(i, count, str(count), ha='center', va='bottom')\n",
    "\n",
    "plt.title('Distribusi Efektifitas Obat Dataset df_b')\n",
    "plt.xlabel('Efektifitas')\n",
    "plt.ylabel('Frekuensi')\n",
    "plt.xticks(rotation=45)\n",
    "plt.grid(False)\n",
    "plt.show()"
   ]
  },
  {
   "cell_type": "markdown",
   "id": "001635c1",
   "metadata": {},
   "source": [
    "Berdasarkan grafik diatas bahwa distribusi `effectiveness` yang **terbesar adalah Highly Effective dengan data 411**, sedangkan `effectiveness` yang **terkecil adalah Marginally Effective dengan 76 data**"
   ]
  },
  {
   "cell_type": "code",
   "execution_count": 43,
   "id": "b40031ba",
   "metadata": {},
   "outputs": [
    {
     "data": {
      "image/png": "[encoded data removed]",
      "text/plain": [
       "<Figure size 800x500 with 1 Axes>"
      ]
     },
     "metadata": {},
     "output_type": "display_data"
    }
   ],
   "source": [
    "# Melihat Distribusi `sideEffects`\n",
    "counts = df_b['sideEffects'].value_counts()\n",
    "plt.figure(figsize=(8, 5))\n",
    "counts.plot(kind='bar', color='lightgreen', edgecolor='black')\n",
    "\n",
    "for i, count in enumerate(counts):\n",
    "    plt.text(i, count, str(count), ha='center', va='bottom')\n",
    "\n",
    "plt.title('Distribusi Efek Samping Obat Dataset df_b')\n",
    "plt.xlabel('Efek Samping')\n",
    "plt.ylabel('Frekuensi')\n",
    "plt.xticks(rotation=45)\n",
    "plt.grid(False)\n",
    "plt.show()"
   ]
  },
  {
   "cell_type": "markdown",
   "id": "c84a59de",
   "metadata": {},
   "source": [
    "Berdasarkan grafik diatas bahwa distribusi `sideEffects` yang **terbesar adalah Mid Side Effects dengan data 330**, sedangkan `sideEffects` yang **terkecil adalah Extremely Severe Side Effects dengan 80 data**"
   ]
  },
  {
   "cell_type": "code",
   "execution_count": 44,
   "id": "2ad866b8",
   "metadata": {},
   "outputs": [
    {
     "data": {
      "image/png": "[encoded data removed]",
      "text/plain": [
       "<Figure size 1000x600 with 1 Axes>"
      ]
     },
     "metadata": {},
     "output_type": "display_data"
    }
   ],
   "source": [
    "# Melihat Distribusi `condition`\n",
    "counts = df_b['condition'].value_counts().head(10)\n",
    "plt.figure(figsize=(10, 6))\n",
    "counts.plot(kind='bar', color='salmon', edgecolor='black')\n",
    "\n",
    "for i, count in enumerate(counts):\n",
    "    plt.text(i, count, str(count), ha='center', va='bottom')\n",
    "\n",
    "plt.title('Distribusi 10 Kondisi Medis Teratas Dataset df_b')\n",
    "plt.xlabel('Kondisi Medis')\n",
    "plt.ylabel('Frekuensi')\n",
    "plt.xticks(rotation=45)\n",
    "plt.grid(False)\n",
    "plt.show()"
   ]
  },
  {
   "cell_type": "markdown",
   "id": "d2493468",
   "metadata": {},
   "source": [
    "Berikut adalah grafik 10 teratas distribusi `condition` terlihat bahwa **despression** dan **acne** menjadi yang paling mencolok dari distribusi lainnya"
   ]
  },
  {
   "cell_type": "markdown",
   "id": "13818d04",
   "metadata": {},
   "source": [
    "# Data Preparation"
   ]
  },
  {
   "cell_type": "markdown",
   "id": "c9943f69",
   "metadata": {},
   "source": [
    "## Penggabungan Dataset\n",
    "\n",
    "Pada proses ini dilakukan penggabungan dua dataset utama untuk memperkaya informasi dan memudahkan proses analisis data lebih lanjut. Adapun data yang digabungkan adalah `drugLibTrain_raw.tsv` atau variabel `df_a` dengan 3107 baris dan 9 kolom dan `drugLibTest_raw.tsv`atau variabel `df_b` dengan 1036 baris dan 9 kolom\n",
    "\n",
    "**Alasan:**\n",
    "Dataset ini dilakukan penggabungan karena memiliki karakteristik yang sama dan kemudahan dalam pengolahan. Selanjutnya, data akan digabungkan menggunakan fungsi `concat()` menjadi variabel `df` agar lebih kaya untuk analisis lanjutan."
   ]
  },
  {
   "cell_type": "code",
   "execution_count": 45,
   "id": "235f8991",
   "metadata": {},
   "outputs": [],
   "source": [
    "df = pd.concat([df_a, df_b])"
   ]
  },
  {
   "cell_type": "code",
   "execution_count": 46,
   "id": "03a3de5e",
   "metadata": {},
   "outputs": [
    {
     "data": {
      "text/plain": [
       "(4143, 9)"
      ]
     },
     "execution_count": 46,
     "metadata": {},
     "output_type": "execute_result"
    }
   ],
   "source": [
    "df.shape"
   ]
  },
  {
   "cell_type": "markdown",
   "id": "4402a3f0",
   "metadata": {},
   "source": [
    "Berhasil menggabungkan data `df_a` dan `df_b` menjadi variabel `df` dengan menggunakan fungsi `concat()` dengan jumlah baris adalah 4143 dan jumlah kolom adalah 9 "
   ]
  },
  {
   "cell_type": "markdown",
   "id": "a4a3151f",
   "metadata": {},
   "source": [
    "## **Handling Data Duplikat**  \n",
    "Pada proses ini, langkah yang dilakukan adalah memeriksa dan menghapus data duplikat dari dataset untuk memastikan kualitas data yang baik sebelum masuk ke tahap pemodelan. Proses ini penting untuk menghindari data yang terulang yang dapat mempengaruhi hasil analisis dan performa model rekomendasi.\n",
    "\n",
    "**Alasan:**  \n",
    "Data duplikat dapat menyebabkan bias dalam analisis dan model karena beberapa data akan memiliki bobot yang lebih besar dari yang seharusnya. Selain itu, keberadaan data yang berulang dapat membuat model memberikan rekomendasi yang tidak akurat atau menyesatkan. Menghilangkan duplikat membantu menjaga keakuratan hasil rekomendasi dengan memastikan setiap data unik dan representatif."
   ]
  },
  {
   "cell_type": "code",
   "execution_count": 47,
   "id": "e6cca445",
   "metadata": {},
   "outputs": [
    {
     "name": "stdout",
     "output_type": "stream",
     "text": [
      "Jumlah data duplikat 0\n"
     ]
    }
   ],
   "source": [
    "# Memeriksa jumlah data duplikat\n",
    "print(\"Jumlah data duplikat\", df.duplicated().sum())"
   ]
  },
  {
   "cell_type": "markdown",
   "id": "ce04ba21",
   "metadata": {},
   "source": [
    "Sehingga pada operasi ini tidak ada penghapusan data duplikat, karena tidak terdapat data yang duplikat"
   ]
  },
  {
   "cell_type": "markdown",
   "id": "699a1021",
   "metadata": {},
   "source": [
    "## **Missing Value/ Nilai NaN**  \n",
    "Pada proses ini, langkah yang dilakukan adalah memeriksa keberadaan **missing value** atau **nilai NaN** pada dataset dan mengatasinya agar tidak memengaruhi hasil analisis dan pemodelan. Data yang hilang sering kali muncul akibat kesalahan pencatatan atau ketidaklengkapan informasi yang diberikan oleh pengguna.\n",
    "\n",
    "**Alasan:**  \n",
    "**Missing value** dapat menyebabkan masalah dalam proses analisis dan pemodelan tidak dapat menangani data yang kosong. Kehadiran nilai yang hilang juga dapat menurunkan kualitas model. Oleh karena itu, langkah penanganan yang tepat seperti **menghapus data yang hilang** untuk menjaga integritas dataset."
   ]
  },
  {
   "cell_type": "code",
   "execution_count": 48,
   "id": "178e3556",
   "metadata": {},
   "outputs": [
    {
     "data": {
      "text/plain": [
       "Unnamed: 0           0\n",
       "urlDrugName          0\n",
       "rating               0\n",
       "effectiveness        0\n",
       "sideEffects          0\n",
       "condition            1\n",
       "benefitsReview       0\n",
       "sideEffectsReview    2\n",
       "commentsReview       8\n",
       "dtype: int64"
      ]
     },
     "execution_count": 48,
     "metadata": {},
     "output_type": "execute_result"
    }
   ],
   "source": [
    "df.isnull().sum()"
   ]
  },
  {
   "cell_type": "code",
   "execution_count": 49,
   "id": "f2b63759",
   "metadata": {},
   "outputs": [],
   "source": [
    "df = df.dropna(subset=['condition', 'sideEffectsReview', 'commentsReview'])"
   ]
  },
  {
   "cell_type": "code",
   "execution_count": 50,
   "id": "4b3c6733",
   "metadata": {},
   "outputs": [
    {
     "data": {
      "text/plain": [
       "Unnamed: 0           0\n",
       "urlDrugName          0\n",
       "rating               0\n",
       "effectiveness        0\n",
       "sideEffects          0\n",
       "condition            0\n",
       "benefitsReview       0\n",
       "sideEffectsReview    0\n",
       "commentsReview       0\n",
       "dtype: int64"
      ]
     },
     "execution_count": 50,
     "metadata": {},
     "output_type": "execute_result"
    }
   ],
   "source": [
    "df.isnull().sum()"
   ]
  },
  {
   "cell_type": "markdown",
   "id": "a28b58b6",
   "metadata": {},
   "source": [
    "Berdasarkan _output_ diatas, tidak terdapat data pada fitur/kolom `condition` yang terdapat nilai NaN, sehingga tidak ada tindakan penghapusan data"
   ]
  },
  {
   "cell_type": "markdown",
   "id": "9125bea3",
   "metadata": {},
   "source": [
    "## Filter Frekuensi Data\n",
    "\n",
    "Pada proses ini, dilakukan filter terhadap kolom `condition` untuk memastikan hanya data dengan frekuensi kemunculan yang cukup tinggi yang digunakan dalam analisis. Filter ini dilakukan dengan menetapkan ambang batas frekuensi lebih besar dari 30 (>30). \n",
    "\n",
    "**Alasan**: Kondisi dengan frekuensi kemunculan kurang dari atau sama dengan 30 dianggap terlalu jarang muncul dan cenderung tidak memberikan kontribusi yang signifikan terhadap hasil analisis. Selain itu, data dengan frekuensi rendah sering kali merupakan _outlier_ atau tidak relevan dalam konteks permasalahan yang sedang dianalisis. "
   ]
  },
  {
   "cell_type": "code",
   "execution_count": 51,
   "id": "b34c1ea9",
   "metadata": {},
   "outputs": [],
   "source": [
    "# Proses Filter Data\n",
    "condition_counts = df['condition'].value_counts()\n",
    "filtered_conditions = condition_counts[condition_counts > 30]\n",
    "df_filtered = df[df['condition'].isin(filtered_conditions.index)]"
   ]
  },
  {
   "cell_type": "markdown",
   "id": "76ededc3",
   "metadata": {},
   "source": [
    "Berhasil menerapkan filter terhadap kolom `condition`  lebih besar dari 30"
   ]
  },
  {
   "cell_type": "code",
   "execution_count": 52,
   "id": "88fb7d96",
   "metadata": {},
   "outputs": [
    {
     "name": "stdout",
     "output_type": "stream",
     "text": [
      "Jumlah kondisi unik setelah filter (>30): 16\n",
      "Jumlah total baris setelah filter: 1198\n"
     ]
    }
   ],
   "source": [
    "print(f\"Jumlah kondisi unik setelah filter (>30): {len(filtered_conditions)}\")\n",
    "print(f\"Jumlah total baris setelah filter: {len(df_filtered)}\")"
   ]
  },
  {
   "cell_type": "markdown",
   "id": "a088ce11",
   "metadata": {},
   "source": [
    "Berdasarkan output diatas **data yang digunakan adalah sebanyak 1.198 data** dengan **kondisi unik sebanyak 16 pada kolom `condition`**"
   ]
  },
  {
   "cell_type": "markdown",
   "id": "7b315a5f",
   "metadata": {},
   "source": [
    "## Filter Fitur Penting\n",
    "Pada proses ini, dataset difokuskan hanya pada fitur-fitur yang relevan untuk membangun sistem rekomendasi obat.\n",
    "\n",
    "**Alasan pemilihan fitur**:\n",
    "- Untuk kolom `benefitsReview`,`sideEffectsReview`, dan`commentsReview` tidak akan digunakan pada proyek ini, karena proyek ini **terbatas** dalam pengelolaan kolom dengan kajian atau penanganan data **Natural Language Processing (NLP)**\n",
    "- Karena proyek ini hanya menerapkan Content-Based Filtering saja dengan pertimbangan `condition` sehingga kolom `rating`, `effectiveness` dan `sideEffects` tidak digunakan\n"
   ]
  },
  {
   "cell_type": "code",
   "execution_count": 53,
   "id": "341b83f9",
   "metadata": {},
   "outputs": [],
   "source": [
    "df = df_filtered[['urlDrugName','condition']]"
   ]
  },
  {
   "cell_type": "code",
   "execution_count": 54,
   "id": "0a832b17",
   "metadata": {},
   "outputs": [
    {
     "data": {
      "text/html": [
       "<div>\n",
       "<style scoped>\n",
       "    .dataframe tbody tr th:only-of-type {\n",
       "        vertical-align: middle;\n",
       "    }\n",
       "\n",
       "    .dataframe tbody tr th {\n",
       "        vertical-align: top;\n",
       "    }\n",
       "\n",
       "    .dataframe thead th {\n",
       "        text-align: right;\n",
       "    }\n",
       "</style>\n",
       "<table border=\"1\" class=\"dataframe\">\n",
       "  <thead>\n",
       "    <tr style=\"text-align: right;\">\n",
       "      <th></th>\n",
       "      <th>urlDrugName</th>\n",
       "      <th>condition</th>\n",
       "    </tr>\n",
       "  </thead>\n",
       "  <tbody>\n",
       "    <tr>\n",
       "      <th>3</th>\n",
       "      <td>prilosec</td>\n",
       "      <td>acid reflux</td>\n",
       "    </tr>\n",
       "    <tr>\n",
       "      <th>5</th>\n",
       "      <td>propecia</td>\n",
       "      <td>hair loss</td>\n",
       "    </tr>\n",
       "    <tr>\n",
       "      <th>6</th>\n",
       "      <td>vyvanse</td>\n",
       "      <td>add</td>\n",
       "    </tr>\n",
       "    <tr>\n",
       "      <th>7</th>\n",
       "      <td>elavil</td>\n",
       "      <td>depression</td>\n",
       "    </tr>\n",
       "    <tr>\n",
       "      <th>9</th>\n",
       "      <td>claritin</td>\n",
       "      <td>allergies</td>\n",
       "    </tr>\n",
       "    <tr>\n",
       "      <th>...</th>\n",
       "      <td>...</td>\n",
       "      <td>...</td>\n",
       "    </tr>\n",
       "    <tr>\n",
       "      <th>1009</th>\n",
       "      <td>ambien</td>\n",
       "      <td>insomnia</td>\n",
       "    </tr>\n",
       "    <tr>\n",
       "      <th>1012</th>\n",
       "      <td>nexium</td>\n",
       "      <td>acid reflux</td>\n",
       "    </tr>\n",
       "    <tr>\n",
       "      <th>1016</th>\n",
       "      <td>retin-a</td>\n",
       "      <td>acne</td>\n",
       "    </tr>\n",
       "    <tr>\n",
       "      <th>1027</th>\n",
       "      <td>vyvanse</td>\n",
       "      <td>adhd</td>\n",
       "    </tr>\n",
       "    <tr>\n",
       "      <th>1032</th>\n",
       "      <td>proair-hfa</td>\n",
       "      <td>asthma</td>\n",
       "    </tr>\n",
       "  </tbody>\n",
       "</table>\n",
       "<p>1198 rows × 2 columns</p>\n",
       "</div>"
      ],
      "text/plain": [
       "     urlDrugName    condition\n",
       "3       prilosec  acid reflux\n",
       "5       propecia    hair loss\n",
       "6        vyvanse          add\n",
       "7         elavil   depression\n",
       "9       claritin    allergies\n",
       "...          ...          ...\n",
       "1009      ambien     insomnia\n",
       "1012      nexium  acid reflux\n",
       "1016     retin-a         acne\n",
       "1027     vyvanse         adhd\n",
       "1032  proair-hfa       asthma\n",
       "\n",
       "[1198 rows x 2 columns]"
      ]
     },
     "execution_count": 54,
     "metadata": {},
     "output_type": "execute_result"
    }
   ],
   "source": [
    "df"
   ]
  },
  {
   "cell_type": "markdown",
   "id": "026d78dc",
   "metadata": {},
   "source": [
    "Sekarang variabel `df` hanya berisikan fitur :\n",
    "- `urlDrugName`\n",
    "- `condition`\n",
    "\n",
    "Dengan jumlah data **1198 baris dengan 2 kolom**"
   ]
  },
  {
   "cell_type": "markdown",
   "id": "f2e1e163",
   "metadata": {},
   "source": [
    "## Ekstraksi Fitur: Term Frequency-Inverse Document Frequency (TF-IDF)\n",
    "\n",
    "Pada proses ini dilakukan ekstraksi fitur menggunakan **Term Frequency-Inverse Document Frequency (TF-IDF)**. Proses ini bertujuan untuk merepresentasikan teks dalam bentuk numerik dengan cara mengukur seberapa penting suatu kata dalam sebuah dokumen dibandingkan dengan seluruh kumpulan dokumen lainnya.\n",
    "\n",
    "**Alasan:**\n",
    "Ekstraksi fitur dengan TF-IDF dipilih karena metode ini dapat memberikan bobot lebih pada kata-kata yang unik dan relevan dalam dokumen tertentu. Selain itu, TF-IDF mampu mengurangi pengaruh dari kata-kata umum yang sering muncul di berbagai dokumen, sehingga data menjadi lebih informatif dan representatif untuk analisis atau pemodelan lanjutan.\n"
   ]
  },
  {
   "cell_type": "code",
   "execution_count": 55,
   "id": "83661c05",
   "metadata": {},
   "outputs": [
    {
     "data": {
      "text/plain": [
       "array(['acid', 'acne', 'add', 'adhd', 'allergies', 'anxiety', 'asthma',\n",
       "       'birth', 'blood', 'cholesterol', 'control', 'depression', 'hair',\n",
       "       'high', 'hypothyroidism', 'insomnia', 'loss', 'migraine',\n",
       "       'migraines', 'pressure', 'reflux'], dtype=object)"
      ]
     },
     "execution_count": 55,
     "metadata": {},
     "output_type": "execute_result"
    }
   ],
   "source": [
    "# Penggabungan Fitur dan Membuat matriks TF-IDF\n",
    "tf_id = TfidfVectorizer(stop_words='english')\n",
    "tf_id.fit(df['condition'])\n",
    "tf_id.get_feature_names_out()"
   ]
  },
  {
   "cell_type": "markdown",
   "id": "c21dafd2",
   "metadata": {},
   "source": [
    "Berdasarkan _output_ diatas menghasilkan _array_ yang berisi nilai-nilai yang ada pada kolom `condition`"
   ]
  },
  {
   "cell_type": "code",
   "execution_count": 56,
   "id": "7578fba2",
   "metadata": {},
   "outputs": [
    {
     "data": {
      "text/plain": [
       "(1198, 21)"
      ]
     },
     "execution_count": 56,
     "metadata": {},
     "output_type": "execute_result"
    }
   ],
   "source": [
    "# Melihat ukuran matrix tfidf\n",
    "tfidf_matrix = tf_id.fit_transform(df['condition'])\n",
    "tfidf_matrix.shape "
   ]
  },
  {
   "cell_type": "markdown",
   "id": "ac3e5d55",
   "metadata": {},
   "source": [
    "Berdasarkan _output_ diatas menampilkan **ukuran data 1198 baris x 21 kolom**, sehingga akan masuk tahap pembuatan matrix agar bisa dianalisa lebih lanjut "
   ]
  },
  {
   "cell_type": "code",
   "execution_count": 57,
   "id": "bb72adac",
   "metadata": {},
   "outputs": [
    {
     "data": {
      "text/plain": [
       "matrix([[0.70710678, 0.        , 0.        , ..., 0.        , 0.        ,\n",
       "         0.70710678],\n",
       "        [0.        , 0.        , 0.        , ..., 0.        , 0.        ,\n",
       "         0.        ],\n",
       "        [0.        , 0.        , 1.        , ..., 0.        , 0.        ,\n",
       "         0.        ],\n",
       "        ...,\n",
       "        [0.        , 1.        , 0.        , ..., 0.        , 0.        ,\n",
       "         0.        ],\n",
       "        [0.        , 0.        , 0.        , ..., 0.        , 0.        ,\n",
       "         0.        ],\n",
       "        [0.        , 0.        , 0.        , ..., 0.        , 0.        ,\n",
       "         0.        ]])"
      ]
     },
     "execution_count": 57,
     "metadata": {},
     "output_type": "execute_result"
    }
   ],
   "source": [
    "# Mengubah vektor tf-idf yang berbebntuk matriks menggunakan fungsi todense()\n",
    "tfidf_matrix.todense()"
   ]
  },
  {
   "cell_type": "markdown",
   "id": "b254515c",
   "metadata": {},
   "source": [
    "Berdasarkan _output_ diatas berhasil menerapkan fungsi `todense()` untuk membentuk matrix"
   ]
  },
  {
   "cell_type": "code",
   "execution_count": 58,
   "id": "0398ce4c",
   "metadata": {},
   "outputs": [],
   "source": [
    "# Membuat DataFrame untuk melihat TF-IDF matrix\n",
    "tfidf_df = pd.DataFrame(\n",
    "    tfidf_matrix.todense(),                    \n",
    "    columns=tf_id.get_feature_names_out(),  \n",
    "    index=df['urlDrugName']                      \n",
    ")"
   ]
  },
  {
   "cell_type": "markdown",
   "id": "84283921",
   "metadata": {},
   "source": [
    "Berhasil membuat Dataframe `tfidf_df`"
   ]
  },
  {
   "cell_type": "code",
   "execution_count": 59,
   "id": "d9272066",
   "metadata": {},
   "outputs": [
    {
     "data": {
      "text/html": [
       "<div>\n",
       "<style scoped>\n",
       "    .dataframe tbody tr th:only-of-type {\n",
       "        vertical-align: middle;\n",
       "    }\n",
       "\n",
       "    .dataframe tbody tr th {\n",
       "        vertical-align: top;\n",
       "    }\n",
       "\n",
       "    .dataframe thead th {\n",
       "        text-align: right;\n",
       "    }\n",
       "</style>\n",
       "<table border=\"1\" class=\"dataframe\">\n",
       "  <thead>\n",
       "    <tr style=\"text-align: right;\">\n",
       "      <th></th>\n",
       "      <th>control</th>\n",
       "      <th>hypothyroidism</th>\n",
       "      <th>migraine</th>\n",
       "      <th>anxiety</th>\n",
       "      <th>pressure</th>\n",
       "      <th>depression</th>\n",
       "      <th>migraines</th>\n",
       "      <th>asthma</th>\n",
       "      <th>birth</th>\n",
       "      <th>loss</th>\n",
       "    </tr>\n",
       "    <tr>\n",
       "      <th>urlDrugName</th>\n",
       "      <th></th>\n",
       "      <th></th>\n",
       "      <th></th>\n",
       "      <th></th>\n",
       "      <th></th>\n",
       "      <th></th>\n",
       "      <th></th>\n",
       "      <th></th>\n",
       "      <th></th>\n",
       "      <th></th>\n",
       "    </tr>\n",
       "  </thead>\n",
       "  <tbody>\n",
       "    <tr>\n",
       "      <th>wellbutrin</th>\n",
       "      <td>0.0</td>\n",
       "      <td>0.0</td>\n",
       "      <td>0.0</td>\n",
       "      <td>0.0</td>\n",
       "      <td>0.000000</td>\n",
       "      <td>1.0</td>\n",
       "      <td>0.0</td>\n",
       "      <td>0.0</td>\n",
       "      <td>0.0</td>\n",
       "      <td>0.0</td>\n",
       "    </tr>\n",
       "    <tr>\n",
       "      <th>retin-a-micro</th>\n",
       "      <td>0.0</td>\n",
       "      <td>0.0</td>\n",
       "      <td>0.0</td>\n",
       "      <td>0.0</td>\n",
       "      <td>0.000000</td>\n",
       "      <td>0.0</td>\n",
       "      <td>0.0</td>\n",
       "      <td>0.0</td>\n",
       "      <td>0.0</td>\n",
       "      <td>0.0</td>\n",
       "    </tr>\n",
       "    <tr>\n",
       "      <th>zoloft</th>\n",
       "      <td>0.0</td>\n",
       "      <td>0.0</td>\n",
       "      <td>0.0</td>\n",
       "      <td>0.0</td>\n",
       "      <td>0.000000</td>\n",
       "      <td>1.0</td>\n",
       "      <td>0.0</td>\n",
       "      <td>0.0</td>\n",
       "      <td>0.0</td>\n",
       "      <td>0.0</td>\n",
       "    </tr>\n",
       "    <tr>\n",
       "      <th>effexor</th>\n",
       "      <td>0.0</td>\n",
       "      <td>0.0</td>\n",
       "      <td>0.0</td>\n",
       "      <td>0.0</td>\n",
       "      <td>0.000000</td>\n",
       "      <td>1.0</td>\n",
       "      <td>0.0</td>\n",
       "      <td>0.0</td>\n",
       "      <td>0.0</td>\n",
       "      <td>0.0</td>\n",
       "    </tr>\n",
       "    <tr>\n",
       "      <th>tetracycline</th>\n",
       "      <td>0.0</td>\n",
       "      <td>0.0</td>\n",
       "      <td>0.0</td>\n",
       "      <td>0.0</td>\n",
       "      <td>0.000000</td>\n",
       "      <td>0.0</td>\n",
       "      <td>0.0</td>\n",
       "      <td>0.0</td>\n",
       "      <td>0.0</td>\n",
       "      <td>0.0</td>\n",
       "    </tr>\n",
       "    <tr>\n",
       "      <th>diovan</th>\n",
       "      <td>0.0</td>\n",
       "      <td>0.0</td>\n",
       "      <td>0.0</td>\n",
       "      <td>0.0</td>\n",
       "      <td>0.598834</td>\n",
       "      <td>0.0</td>\n",
       "      <td>0.0</td>\n",
       "      <td>0.0</td>\n",
       "      <td>0.0</td>\n",
       "      <td>0.0</td>\n",
       "    </tr>\n",
       "  </tbody>\n",
       "</table>\n",
       "</div>"
      ],
      "text/plain": [
       "               control  hypothyroidism  migraine  anxiety  pressure  \\\n",
       "urlDrugName                                                           \n",
       "wellbutrin         0.0             0.0       0.0      0.0  0.000000   \n",
       "retin-a-micro      0.0             0.0       0.0      0.0  0.000000   \n",
       "zoloft             0.0             0.0       0.0      0.0  0.000000   \n",
       "effexor            0.0             0.0       0.0      0.0  0.000000   \n",
       "tetracycline       0.0             0.0       0.0      0.0  0.000000   \n",
       "diovan             0.0             0.0       0.0      0.0  0.598834   \n",
       "\n",
       "               depression  migraines  asthma  birth  loss  \n",
       "urlDrugName                                                \n",
       "wellbutrin            1.0        0.0     0.0    0.0   0.0  \n",
       "retin-a-micro         0.0        0.0     0.0    0.0   0.0  \n",
       "zoloft                1.0        0.0     0.0    0.0   0.0  \n",
       "effexor               1.0        0.0     0.0    0.0   0.0  \n",
       "tetracycline          0.0        0.0     0.0    0.0   0.0  \n",
       "diovan                0.0        0.0     0.0    0.0   0.0  "
      ]
     },
     "execution_count": 59,
     "metadata": {},
     "output_type": "execute_result"
    }
   ],
   "source": [
    "# Sampling 10 fitur (kolom) dan 6 obat (baris)\n",
    "sampled_df = tfidf_df.sample(10, axis=1).sample(6, axis=0)\n",
    "sampled_df"
   ]
  },
  {
   "cell_type": "markdown",
   "id": "90d2bb73",
   "metadata": {},
   "source": [
    "Berhasil menampikan _output_ dari `sampled_df`"
   ]
  },
  {
   "cell_type": "markdown",
   "id": "eac8c9c2",
   "metadata": {},
   "source": [
    "# Modelling dan Result"
   ]
  },
  {
   "cell_type": "markdown",
   "id": "eb66d21a",
   "metadata": {},
   "source": [
    "Pendekatan yang digunakan dalam membangun _Recommender System_ adalah **Content-Based Filtering**. **Content-Based Filtering** adalah pendekatan dalam sistem rekomendasi yang menggunakan atribut-atribut atau fitur-fitur dari item untuk menentukan kesamaan antara item yang ada. Pendekatan ini berfokus pada karakteristik item yang telah dinilai pengguna untuk merekomendasikan item serupa.\n",
    "\n",
    "**Kelebihan:**\n",
    "- Tidak memerlukan data dari pengguna lain, sehingga cocok untuk personalisasi.\n",
    "- Efektif dalam menangani _cold start_ untuk pengguna baru.\n",
    "- Rekomendasi dapat dijelaskan dengan mudah karena berbasis pada fitur yang relevan.\n",
    "\n",
    "**Kekurangan:**\n",
    "- Cenderung menghasilkan rekomendasi yang terlalu spesifik dan tidak bervariasi (_overspecialization_).\n",
    "- Bergantung pada ketersediaan dan kualitas fitur/atribut item.\n",
    "- Tidak dapat merekomendasikan item yang berbeda dari sejarah preferensi pengguna (tidak ada eksplorasi).\n",
    "\n",
    "Dalam konteks proyek ini, **Content-Based Filtering** akan memberikan rekomendasi obat (_drug_) berdasarkan **condition** dari dataset yang tersedia. Adapun algoritme yang digunakan adalah **Cosine Similarity**. \n",
    "\n",
    "**Cosine Similarity** adalah ukuran kesamaan antara dua vektor dalam ruang multidimensi, yang dihitung berdasarkan sudut kosinus antara keduanya. Dalam konteks sistem rekomendasi, vektor mewakili item atau pengguna berdasarkan fitur mereka. Nilai Cosine Similarity berkisar antara 0 hingga 1, di mana nilai 1 menunjukkan kesamaan sempurna dan nilai mendekati 0 menunjukkan perbedaan yang signifikan.\n",
    "\n",
    "Rumus Cosine Similarity:\n",
    "$$\n",
    "\\text{Cosine Similarity} = \\frac{\\sum_{i=1}^{n} A_i \\cdot B_i}{\\sqrt{\\sum_{i=1}^{n} A_i^2} \\cdot \\sqrt{\\sum_{i=1}^{n} B_i^2}}\n",
    "$$\n",
    "\n",
    "Keterangan:\n",
    "- **A** dan **B**: Vektor representasi dari dua item atau pengguna.\n",
    "- **n**: Jumlah fitur dalam vektor.\n",
    "\n",
    "\n",
    "**Kelebihan Cosine Similarity:**\n",
    "- Mudah diterapkan dan dihitung.\n",
    "- Memberikan nilai kesamaan yang akurat untuk data dengan banyak dimensi.\n",
    "- Tidak terpengaruh oleh skala fitur karena hanya mempertimbangkan arah vektor.\n",
    "\n",
    "**Kekurangan Cosine Similarity:**\n",
    "- Tidak mempertimbangkan perbedaan magnitudo antara dua vektor.\n",
    "- Tidak cocok untuk data yang memiliki nilai nol yang dominan (_sparse data_).\n",
    "- Bergantung pada kualitas fitur untuk menghasilkan rekomendasi yang relevan."
   ]
  },
  {
   "cell_type": "markdown",
   "id": "bf9f44ff",
   "metadata": {},
   "source": [
    "### Modelling"
   ]
  },
  {
   "cell_type": "code",
   "execution_count": 60,
   "id": "47105ba4",
   "metadata": {},
   "outputs": [
    {
     "data": {
      "text/plain": [
       "array([[1., 0., 0., ..., 0., 0., 0.],\n",
       "       [0., 1., 0., ..., 0., 0., 0.],\n",
       "       [0., 0., 1., ..., 0., 0., 0.],\n",
       "       ...,\n",
       "       [0., 0., 0., ..., 1., 0., 0.],\n",
       "       [0., 0., 0., ..., 0., 1., 0.],\n",
       "       [0., 0., 0., ..., 0., 0., 1.]])"
      ]
     },
     "execution_count": 60,
     "metadata": {},
     "output_type": "execute_result"
    }
   ],
   "source": [
    "# Proses perhitungan cosine_similarity\n",
    "cosine_sim = cosine_similarity(tfidf_matrix)\n",
    "cosine_sim"
   ]
  },
  {
   "cell_type": "markdown",
   "id": "8c64c663",
   "metadata": {},
   "source": [
    "Berdasarkan output diatas, proses perhitungan `cosine_similarity` telah berhasil dilakukan."
   ]
  },
  {
   "cell_type": "code",
   "execution_count": 61,
   "id": "208e2784",
   "metadata": {},
   "outputs": [
    {
     "name": "stdout",
     "output_type": "stream",
     "text": [
      "Ukuran Dataframe :  (1198, 1198)\n"
     ]
    }
   ],
   "source": [
    "# Membuat DataFrame dari matriks kesamaan\n",
    "cosine_sim_df = pd.DataFrame(\n",
    "    cosine_sim,                      # Matriks kesamaan kosinus\n",
    "    index=df['urlDrugName'],         # Indeks nama obat\n",
    "    columns=df['urlDrugName']        # Kolom nama obat\n",
    ")\n",
    "\n",
    "# Menampilkan ukuran DataFrame\n",
    "print('Ukuran Dataframe : ', cosine_sim_df.shape)"
   ]
  },
  {
   "cell_type": "markdown",
   "id": "a0d85380",
   "metadata": {},
   "source": [
    "Berdasarkan output diatas, proses pembuatan dataframe berhasil dengan nama `cosine_sim_df` dilakukan dan dataframe memiliki ukuran 1198 x 1198"
   ]
  },
  {
   "cell_type": "code",
   "execution_count": 62,
   "id": "e523adca",
   "metadata": {},
   "outputs": [],
   "source": [
    "# Fungsi Utama rekomendasi obat berbasis Content-Based Filtering\n",
    "def drug_recommendations(drug_name, n=5):\n",
    "    global cosine_sim_df\n",
    "    cosine_sim_df = cosine_sim_df[~cosine_sim_df.index.duplicated(keep='first')]\n",
    "    cosine_sim_df = cosine_sim_df.loc[:, ~cosine_sim_df.columns.duplicated(keep='first')]\n",
    "    \n",
    "    if drug_name not in cosine_sim_df.index:\n",
    "        raise ValueError(f\"Drug name '{drug_name}' not found in similarity matrix.\")\n",
    "        \n",
    "    sim_scores = cosine_sim_df.loc[drug_name].sort_values(ascending=False)\n",
    "    sim_scores = sim_scores.drop(drug_name, errors='ignore')\n",
    "    top_recommendations = sim_scores.head(n * 2).index.tolist()\n",
    "    \n",
    "    recommendations_df = (\n",
    "        df[df['urlDrugName'].isin(top_recommendations)][['urlDrugName', 'condition']]\n",
    "        .drop_duplicates(subset=['urlDrugName'])\n",
    "        .head(n)\n",
    "    )\n",
    "    return recommendations_df"
   ]
  },
  {
   "cell_type": "markdown",
   "id": "41c5f812",
   "metadata": {},
   "source": [
    "Berikut diatas merupakan _function_ yang diguunakan untuk dilakukannya rekomendasi obat berbasis Content-Based Filtering "
   ]
  },
  {
   "cell_type": "markdown",
   "id": "7b6f09f2",
   "metadata": {},
   "source": [
    "### Result\n",
    "Pada proses hasil ini akan dicoba rekomendasi obat yang lain `lexapro` yang merupakan obat antidepresan "
   ]
  },
  {
   "cell_type": "code",
   "execution_count": 63,
   "id": "5289142b",
   "metadata": {},
   "outputs": [
    {
     "data": {
      "text/html": [
       "<div>\n",
       "<style scoped>\n",
       "    .dataframe tbody tr th:only-of-type {\n",
       "        vertical-align: middle;\n",
       "    }\n",
       "\n",
       "    .dataframe tbody tr th {\n",
       "        vertical-align: top;\n",
       "    }\n",
       "\n",
       "    .dataframe thead th {\n",
       "        text-align: right;\n",
       "    }\n",
       "</style>\n",
       "<table border=\"1\" class=\"dataframe\">\n",
       "  <thead>\n",
       "    <tr style=\"text-align: right;\">\n",
       "      <th></th>\n",
       "      <th>urlDrugName</th>\n",
       "      <th>condition</th>\n",
       "    </tr>\n",
       "  </thead>\n",
       "  <tbody>\n",
       "    <tr>\n",
       "      <th>66</th>\n",
       "      <td>lexapro</td>\n",
       "      <td>depression</td>\n",
       "    </tr>\n",
       "  </tbody>\n",
       "</table>\n",
       "</div>"
      ],
      "text/plain": [
       "   urlDrugName   condition\n",
       "66     lexapro  depression"
      ]
     },
     "execution_count": 63,
     "metadata": {},
     "output_type": "execute_result"
    }
   ],
   "source": [
    "df[df['urlDrugName'].eq('lexapro')].head(1)"
   ]
  },
  {
   "cell_type": "markdown",
   "id": "b0258f67",
   "metadata": {},
   "source": [
    "Kemudian memanggil fungsi `drug_recommendations()` untuk mendapatkan hasil `Top-N Recommendation`"
   ]
  },
  {
   "cell_type": "code",
   "execution_count": 64,
   "id": "586e9ae1",
   "metadata": {},
   "outputs": [
    {
     "data": {
      "text/html": [
       "<div>\n",
       "<style scoped>\n",
       "    .dataframe tbody tr th:only-of-type {\n",
       "        vertical-align: middle;\n",
       "    }\n",
       "\n",
       "    .dataframe tbody tr th {\n",
       "        vertical-align: top;\n",
       "    }\n",
       "\n",
       "    .dataframe thead th {\n",
       "        text-align: right;\n",
       "    }\n",
       "</style>\n",
       "<table border=\"1\" class=\"dataframe\">\n",
       "  <thead>\n",
       "    <tr style=\"text-align: right;\">\n",
       "      <th></th>\n",
       "      <th>urlDrugName</th>\n",
       "      <th>condition</th>\n",
       "    </tr>\n",
       "  </thead>\n",
       "  <tbody>\n",
       "    <tr>\n",
       "      <th>85</th>\n",
       "      <td>wellbutrin-xl</td>\n",
       "      <td>depression</td>\n",
       "    </tr>\n",
       "    <tr>\n",
       "      <th>110</th>\n",
       "      <td>wellbutrin-sr</td>\n",
       "      <td>depression</td>\n",
       "    </tr>\n",
       "    <tr>\n",
       "      <th>123</th>\n",
       "      <td>zoloft</td>\n",
       "      <td>depression</td>\n",
       "    </tr>\n",
       "    <tr>\n",
       "      <th>174</th>\n",
       "      <td>paxil</td>\n",
       "      <td>depression</td>\n",
       "    </tr>\n",
       "    <tr>\n",
       "      <th>214</th>\n",
       "      <td>citalopram</td>\n",
       "      <td>depression</td>\n",
       "    </tr>\n",
       "  </tbody>\n",
       "</table>\n",
       "</div>"
      ],
      "text/plain": [
       "       urlDrugName   condition\n",
       "85   wellbutrin-xl  depression\n",
       "110  wellbutrin-sr  depression\n",
       "123         zoloft  depression\n",
       "174          paxil  depression\n",
       "214     citalopram  depression"
      ]
     },
     "execution_count": 64,
     "metadata": {},
     "output_type": "execute_result"
    }
   ],
   "source": [
    "recommendations_result = drug_recommendations('lexapro')\n",
    "recommendations_result"
   ]
  },
  {
   "cell_type": "markdown",
   "id": "125d800b",
   "metadata": {},
   "source": [
    "Berikut ini adalah hasil `Top-N Recommendation` yang merupakan rekomendasi obat menggunakan Content-Based Filtering. \n",
    "\n",
    "Berdasarkan percobaan diatas, jika input yang diberikan adalah obat dengan nama `'lexapro'`, model menghasilkan rekomendasi obat-obat lain seperti `wellbutrin-xl`, `wellbutrin-sr`, `zoloft`, `paxil`, dan `citalopram`, yang semuanya memiliki kondisi `depression`. \n",
    "\n",
    "Hasil ini menunjukkan bahwa metode ini dapat membantu menemukan alternatif obat yang sesuai untuk kondisi yang sama, sehingga mempermudah pengguna dalam memilih obat yang relevan."
   ]
  },
  {
   "cell_type": "markdown",
   "id": "4612bf8b",
   "metadata": {},
   "source": [
    "# Evaluation\n",
    "Untuk mengukur bagaimana performa dari model yang telah dibuat, diperlukan metrik evaluasi untuk mengevaluasi model _Recommender Content-Based System_ berbasis obat. Adapun metrik evaluasi yang digunakan adalah **Precision**, dengan penjelasan formula, konteks, dan cara kerjanya terhadap model sebagai berikut:\n",
    "\n",
    "- Penjelasan Formula dan Konteks Terhadap Proyek\n",
    "\n",
    "  **Precision** adalah metrik yang digunakan untuk mengevaluasi relevansi hasil rekomendasi model. **Precision** mengukur proporsi rekomendasi yang relevan (benar) dibandingkan dengan jumlah total rekomendasi yang diberikan. Metrik ini sangat penting untuk memastikan bahwa model memberikan rekomendasi yang tepat sasaran dan berguna bagi pengguna.\n",
    "  \n",
    "  Formula untuk menghitung **Precision** adalah sebagai berikut:\n",
    "\n",
    "  $$\\text{Precision} = \\frac{\\text{TP}}{\\text{TP} + \\text{FP}}$$\n",
    "  \n",
    "  **Keterangan:**\n",
    "  - **True Positive (TP):** Jumlah rekomendasi yang relevan dan benar \n",
    "  - **False Positive (FP):** Jumlah rekomendasi yang tidak relevan atau salah \n",
    "  \n",
    "  Dalam konteks _Recommender System_, formula tersebut dapat disesuaikan menjadi:\n",
    "\n",
    "  $$\\text{Precision} = \\frac{\\text{Jumlah Rekomendasi Relevan}}{\\text{Jumlah Total Rekomendasi}}$$\n",
    "  \n",
    "  **Keterangan:**\n",
    "  - **Jumlah Rekomendasi Relevan:** Rekomendasi obat yang sesuai dengan kondisi medis (_condition_) dari pasien.\n",
    "  - **Jumlah Total Rekomendasi:** Seluruh obat yang direkomendasikan oleh model berdasarkan _input_ obat awal.\n",
    "\n",
    "- Cara Kerja\n",
    "\n",
    "  Formula tersebut mengukur **Precision** dalam konteks sistem rekomendasi obat. **Precision** dihitung dengan membagi jumlah rekomendasi yang relevan dengan jumlah total item yang direkomendasikan.\n",
    "  \n",
    "  Jika model merekomendasikan 10 obat dan 7 di antaranya relevan dengan kondisi pasien, maka nilai **Precision** adalah:\n",
    "\n",
    "  $$\\text{Precision} = \\frac{7}{10} = 0.7 \\, \\text{atau} \\, 70\\%.$$\n",
    "  \n",
    "  Ini menunjukkan bahwa 70% dari rekomendasi yang diberikan oleh model relevan dan bermanfaat bagi pasien."
   ]
  },
  {
   "cell_type": "code",
   "execution_count": 65,
   "id": "cec33a35",
   "metadata": {},
   "outputs": [],
   "source": [
    "# Fungsi untuk menghitung Precision berdasarkan condition\n",
    "def calculate_precision(drug_name, condition, top_n=5):\n",
    "    recommended_drugs = drug_recommendations(drug_name, n=top_n)\n",
    "    return (\n",
    "        len(recommended_drugs[recommended_drugs['condition'] == condition]) / len(recommended_drugs)\n",
    "        if len(recommended_drugs) > 0 else 0\n",
    "    )"
   ]
  },
  {
   "cell_type": "markdown",
   "id": "183e3d8a",
   "metadata": {},
   "source": [
    "Berikut diatas adalah fungsi `calculate_precision` dari **Precision** untuk kasus ini"
   ]
  },
  {
   "cell_type": "code",
   "execution_count": 66,
   "id": "ec87bbc8",
   "metadata": {},
   "outputs": [],
   "source": [
    "# Menghitung Precision untuk setiap kombinasi `urlDrugName` dan `condition`\n",
    "precision_results_df = (df.groupby('condition').first()[['urlDrugName']].reset_index())\n",
    "\n",
    "precision_results_df['precision'] = precision_results_df.apply(\n",
    "    lambda row: calculate_precision(row['urlDrugName'], row['condition'], top_n=5), axis=1)\n",
    "\n",
    "precision_results_df = precision_results_df.sort_values(by='precision', ascending=False)\n",
    "overall_precision = precision_results_df['precision'].mean()"
   ]
  },
  {
   "cell_type": "markdown",
   "id": "a242e985",
   "metadata": {},
   "source": [
    "Berikut diatas adalah proses menghitung precision untuk setiap kombinasi `drug_name` dan `condition` sehingga mengghasilkan variabel `precision_result_df` sebagai hasil dan variabel `overall_precision` sebagai rerata precision"
   ]
  },
  {
   "cell_type": "code",
   "execution_count": 67,
   "id": "e9c2f9fd",
   "metadata": {},
   "outputs": [
    {
     "name": "stdout",
     "output_type": "stream",
     "text": [
      "              condition       urlDrugName  precision\n",
      "0           acid reflux          prilosec        1.0\n",
      "1                  acne            sotret        1.0\n",
      "2                   add           vyvanse        1.0\n",
      "4             allergies          claritin        1.0\n",
      "5               anxiety        effexor-xr        1.0\n",
      "6                asthma         singulair        1.0\n",
      "7         birth control  ortho-tri-cyclen        1.0\n",
      "8            depression            elavil        1.0\n",
      "10  high blood pressure            lotrel        1.0\n",
      "13             insomnia            ambien        1.0\n",
      "15            migraines           prempro        1.0\n",
      "12       hypothyroidism         synthroid        0.8\n",
      "9             hair loss          propecia        0.6\n",
      "11     high cholesterol           crestor        0.6\n",
      "14             migraine             zomig        0.6\n",
      "3                  adhd           vyvanse        0.0\n",
      "Overall Precision: 0.85\n"
     ]
    }
   ],
   "source": [
    "# Mencetak hasil precision dan overall\n",
    "print(precision_results_df)\n",
    "print(f\"Overall Precision: {overall_precision:}\")"
   ]
  },
  {
   "cell_type": "markdown",
   "id": "a10c3eb7",
   "metadata": {},
   "source": [
    "Berdasarkan hasil _output_ diatas, berikut adalah hasil **precision** yang dihasil model untuk setiap `condition` adalah sebagai berikut:\n",
    "\n",
    "1. **Precision Tertinggi**: Sebanyak 11 kondisi, seperti `acid reflux`, `acne`, `add`, dan lainnya, memiliki **precision** sebesar **1.0**, menunjukkan bahwa semua rekomendasi obat untuk kondisi tersebut sangat relevan.\n",
    "2. **Precision Menengah**: Kondisi seperti `hypothyroidism`, `hair loss`, `high cholesterol`, dan `migraine` memiliki **precision** **0.6 hingga 0.8**, menunjukkan rekomendasi cukup relevan, tetapi tidak sepenuhnya akurat.\n",
    "3. **Precision Terendah**: Kondisi `adhd` memiliki **precision** **0.0**, menunjukkan bahwa rekomendasi obat untuk kondisi ini tidak relevan sama sekali.\n",
    "\n",
    "Rata-rata **precision** untuk seluruh kondisi adalah **0.85**"
   ]
  }
 ],
 "metadata": {
  "kernelspec": {
   "display_name": "Python [conda env:tf-coba]",
   "language": "python",
   "name": "conda-env-tf-coba-py"
  },
  "language_info": {
   "codemirror_mode": {
    "name": "ipython",
    "version": 3
   },
   "file_extension": ".py",
   "mimetype": "text/x-python",
   "name": "python",
   "nbconvert_exporter": "python",
   "pygments_lexer": "ipython3",
   "version": "3.7.1"
  },
  "varInspector": {
   "cols": {
    "lenName": 16,
    "lenType": 16,
    "lenVar": 40
   },
   "kernels_config": {
    "python": {
     "delete_cmd_postfix": "",
     "delete_cmd_prefix": "del ",
     "library": "var_list.py",
     "varRefreshCmd": "print(var_dic_list())"
    },
    "r": {
     "delete_cmd_postfix": ") ",
     "delete_cmd_prefix": "rm(",
     "library": "var_list.r",
     "varRefreshCmd": "cat(var_dic_list()) "
    }
   },
   "types_to_exclude": [
    "module",
    "function",
    "builtin_function_or_method",
    "instance",
    "_Feature"
   ],
   "window_display": false
  }
 },
 "nbformat": 4,
 "nbformat_minor": 5
}
